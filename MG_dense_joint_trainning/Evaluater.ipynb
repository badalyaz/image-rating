{
 "cells": [
  {
   "cell_type": "code",
   "execution_count": 4,
   "id": "7c3dd1f5",
   "metadata": {},
   "outputs": [],
   "source": [
    "import cv2\n",
    "import numpy as np\n",
    "import pandas as pd\n",
    "\n",
    "from glob import glob \n",
    "from PIL import Image\n",
    "from final_utils import *"
   ]
  },
  {
   "attachments": {},
   "cell_type": "markdown",
   "id": "3294a2c0",
   "metadata": {},
   "source": [
    "## Creating model"
   ]
  },
  {
   "cell_type": "code",
   "execution_count": 5,
   "id": "24628530",
   "metadata": {},
   "outputs": [],
   "source": [
    "model_gap = model_inceptionresnet_multigap()\n",
    "model = fc_model_softmax()\n",
    "weights_path = 'models/Softmax/model_fc_softmax_07_12_2.hdf5'\n",
    "\n",
    "model.load_weights(weights_path)"
   ]
  },
  {
   "attachments": {},
   "cell_type": "markdown",
   "id": "4df9dc19",
   "metadata": {},
   "source": [
    "## Giving path of folder"
   ]
  },
  {
   "cell_type": "code",
   "execution_count": 6,
   "id": "7ba04837",
   "metadata": {},
   "outputs": [],
   "source": [
    "good_imgs_path = glob(os.path.join('Data', 'benchmark', 'good', '*'))\n",
    "bad_imgs_path = glob(os.path.join('Data', 'benchmark', 'bad', '*'))\n",
    "\n",
    "paths = good_imgs_path + bad_imgs_path\n",
    "labels = np.concatenate((np.ones(len(good_imgs_path)) ,np.zeros(len(bad_imgs_path))))"
   ]
  },
  {
   "attachments": {},
   "cell_type": "markdown",
   "id": "127549b3",
   "metadata": {},
   "source": [
    "## Prediction"
   ]
  },
  {
   "cell_type": "code",
   "execution_count": 1,
   "id": "f1285db7",
   "metadata": {},
   "outputs": [],
   "source": [
    "predicted = predict_from_path(model_gap, model, paths)"
   ]
  },
  {
   "cell_type": "code",
   "execution_count": null,
   "id": "debc66b0",
   "metadata": {},
   "outputs": [],
   "source": [
    "acc = calc_acc(labels, predicted)\n",
    "print(f'Accuracy: {acc}')"
   ]
  },
  {
   "attachments": {},
   "cell_type": "markdown",
   "id": "da477cc9",
   "metadata": {},
   "source": [
    "## Visualizing predictions"
   ]
  },
  {
   "cell_type": "code",
   "execution_count": null,
   "id": "7f98b266",
   "metadata": {},
   "outputs": [],
   "source": [
    "data_size = 20\n",
    "plot_pred_orig(model_gap, model, paths[:data_size])"
   ]
  },
  {
   "cell_type": "code",
   "execution_count": null,
   "id": "9a071bab",
   "metadata": {},
   "outputs": [],
   "source": [
    "data_size = 20\n",
    "plot_pred_orig(model_gap, model, paths[:data_size])"
   ]
  }
 ],
 "metadata": {
  "kernelspec": {
   "display_name": "Python 3 (ipykernel)",
   "language": "python",
   "name": "python3"
  },
  "language_info": {
   "codemirror_mode": {
    "name": "ipython",
    "version": 3
   },
   "file_extension": ".py",
   "mimetype": "text/x-python",
   "name": "python",
   "nbconvert_exporter": "python",
   "pygments_lexer": "ipython3",
   "version": "3.9.12"
  }
 },
 "nbformat": 4,
 "nbformat_minor": 5
}
