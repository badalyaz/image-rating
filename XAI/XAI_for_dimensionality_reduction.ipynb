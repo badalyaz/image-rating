{
 "cells": [
  {
   "cell_type": "code",
   "execution_count": 7,
   "id": "3c7865ea",
   "metadata": {},
   "outputs": [],
   "source": [
    "from final_utils import *\n",
    "import shap"
   ]
  },
  {
   "cell_type": "code",
   "execution_count": 8,
   "id": "0dfe4bb1",
   "metadata": {},
   "outputs": [],
   "source": [
    "root_path = generate_root_path()"
   ]
  },
  {
   "cell_type": "code",
   "execution_count": 9,
   "id": "743c3e7a",
   "metadata": {},
   "outputs": [],
   "source": [
    "def fc_model_softmax(input_num=16928):\n",
    "    input_ = Input(shape=(input_num,))\n",
    "    x = Dense(2048, kernel_initializer='he_normal', activation='relu')(input_)\n",
    "    x = BatchNormalization()(x)\n",
    "    x = Dropout(0.25)(x)\n",
    "    x = Dense(1024, kernel_initializer='he_normal', activation='relu')(x)\n",
    "    x = BatchNormalization()(x)\n",
    "    x = Dropout(0.25)(x)\n",
    "    x = Dense(256, kernel_initializer='he_normal', activation='relu')(x)\n",
    "    x = BatchNormalization()(x)\n",
    "    x = Dropout(0.5)(x)\n",
    "    pred = Dense(2, activation='softmax')(x)\n",
    "\n",
    "    model = Model(input_,pred)\n",
    "    return model"
   ]
  },
  {
   "attachments": {},
   "cell_type": "markdown",
   "id": "2a55bcba",
   "metadata": {},
   "source": [
    "### Creating model"
   ]
  },
  {
   "cell_type": "code",
   "execution_count": 10,
   "id": "9773acd6",
   "metadata": {},
   "outputs": [],
   "source": [
    "model = fc_model_softmax(input_num=19488)\n",
    "model.load_weights('models/Softmax/MG_CNN/model_fc_softmax_16k_2k.hdf5')"
   ]
  },
  {
   "attachments": {},
   "cell_type": "markdown",
   "id": "9b41bf1f",
   "metadata": {},
   "source": [
    "### Creating dataset\n"
   ]
  },
  {
   "cell_type": "code",
   "execution_count": null,
   "id": "a0c01f6f",
   "metadata": {},
   "outputs": [],
   "source": [
    "paths_multigap = glob(f'{root_path}Data/splitted/train/features/mg/original/*')\n",
    "paths_cnn = glob(f'{root_path}Data/splitted/train/features/cnn_efficientnet_b7/border_600x600/*')"
   ]
  },
  {
   "cell_type": "code",
   "execution_count": null,
   "id": "612a6e3b",
   "metadata": {},
   "outputs": [],
   "source": [
    "for i in range(len(paths_multigap)):\n",
    "    basename_mg = (os.path.basename(paths_multigap[i]).split('.'))[0] \n",
    "    basename_cnn = (os.path.basename(paths_cnn[i]).split('.'))[0] \n",
    "    if basename_mg != basename_cnn:\n",
    "        print('false')\n",
    "    if i % 100 == 0:\n",
    "#         print(i)\n",
    "        break\n",
    "print('true')"
   ]
  },
  {
   "cell_type": "code",
   "execution_count": null,
   "id": "cc35c1be",
   "metadata": {},
   "outputs": [],
   "source": [
    "feator_vectors = []\n",
    "for i in range(len(paths_multigap)):\n",
    "    mg_vector = np.load(paths_multigap[i])\n",
    "    cnn_vector = np.load(paths_cnn[i])\n",
    "    feator_vector = np.concatenate((mg_vector,cnn_vector), axis  = 1)\n",
    "    feator_vectors.append(feator_vector)\n",
    "    if i == 100:\n",
    "        break\n",
    "    if i % 1000 == 0:\n",
    "        print(i)\n",
    "print(len(feator_vectors))\n",
    "feator_vectors = np.asarray(feator_vectors)\n",
    "feator_vectors = np.squeeze(feator_vectors)\n",
    "print(feator_vectors.shape)\n"
   ]
  },
  {
   "cell_type": "code",
   "execution_count": 11,
   "id": "7dffef56",
   "metadata": {},
   "outputs": [],
   "source": [
    "main_path = root_path + 'Data/splitted/train/'\n",
    "feats_MG = 'original' \n",
    "feats_CNN = 'border_600x600'\n",
    "cnn = 'cnn_efficientnet_b7'"
   ]
  },
  {
   "attachments": {},
   "cell_type": "markdown",
   "id": "21d4bdc9",
   "metadata": {},
   "source": [
    "# New way to load feature vectors (json)"
   ]
  },
  {
   "cell_type": "code",
   "execution_count": 12,
   "id": "939b4376",
   "metadata": {},
   "outputs": [],
   "source": [
    "def feature_vectors_load_json(main_path=main_path, feats_mg=feats_MG, feats_cnn=feats_CNN, cnn=cnn):\n",
    "    vectors_list = []\n",
    "    labels_list = []\n",
    " \n",
    "    for i in range(7):\n",
    "        alm_train_bad = open(f'{main_path}data_bad{i+1}.json')\n",
    "        bad_data = json.load(alm_train_bad)\n",
    "        for data in bad_data:\n",
    "            feat_path_1 = main_path + f'features/mg/{feats_MG}/' + data['feature']\n",
    "            feat_path_2 = main_path + f'features/{cnn}/{feats_CNN}/' + data['feature']\n",
    "            print(f'good data label = ' + data['label'])\n",
    "            connected = np.concatenate((np.squeeze(np.load(feat_path_1)), np.squeeze(np.load(feat_path_2))))\n",
    "            vectors_list.append(connected)\n",
    "            labels_list.append(data['label'])\n",
    "    alm_train_good = open(f'{main_path}/data_good1.json')\n",
    "    good_data = json.load(alm_train_good)\n",
    "    for data in good_data:\n",
    "        feat_path_1 = main_path + f'features/mg/{feats_MG}/' + data['feature']\n",
    "        feat_path_2 = main_path + f'features/{cnn}/{feats_CNN}/' + data['feature']\n",
    "        print(f'good data label = ' + data['label'])\n",
    "        connected = np.concatenate((np.squeeze(np.load(feat_path_1)), np.squeeze(np.load(feat_path_2))))\n",
    "        vectors_list.append(connected)\n",
    "        labels_list.append(data['label'])\n",
    "    \n",
    "    vectors_array = np.squeeze(np.array(vectors_list))\n",
    "    labels_array = np.squeeze(np.array(labels_list))\n",
    "    \n",
    "    return vectors_array, labels_array\n",
    "    \n"
   ]
  },
  {
   "cell_type": "code",
   "execution_count": 13,
   "id": "904db12e",
   "metadata": {},
   "outputs": [
    {
     "name": "stdout",
     "output_type": "stream",
     "text": [
      "good data label = bad\n",
      "good data label = bad\n",
      "good data label = bad\n",
      "good data label = bad\n",
      "good data label = bad\n",
      "good data label = bad\n",
      "good data label = bad\n",
      "good data label = good\n"
     ]
    }
   ],
   "source": [
    "features = feature_vectors_load_json()"
   ]
  },
  {
   "attachments": {},
   "cell_type": "markdown",
   "id": "884b4549",
   "metadata": {},
   "source": [
    "### Explanation with SHAP "
   ]
  },
  {
   "cell_type": "code",
   "execution_count": null,
   "id": "d28590bc",
   "metadata": {},
   "outputs": [],
   "source": [
    "explainer = shap.GradientExplainer(model, feator_vectors)"
   ]
  },
  {
   "cell_type": "code",
   "execution_count": null,
   "id": "067120c9",
   "metadata": {},
   "outputs": [],
   "source": [
    "shap_values = []\n",
    "for i in range(feator_vectors.shape[0]):\n",
    "    shap_values.append(explainer.shap_values(feator_vectors[i])[np.argmax(model.predict(feator_vectors[i]))][0])####\n",
    "    if i % 5000 == 0:\n",
    "        print(i)\n",
    "    \n",
    "len(shap_values)"
   ]
  },
  {
   "cell_type": "code",
   "execution_count": null,
   "id": "51a08dd8",
   "metadata": {},
   "outputs": [],
   "source": [
    "\n",
    "def principal_values_1(data, num_samples):\n",
    "    data_index = np.argsort(data, axis = 1)[:,::-1]\n",
    "#     print(f'data_index = {data_index}')\n",
    "    data_slice = data_index[:,:500] #Attention to this !!!!\n",
    "#     print(f'data_slice = {data_slice}')\n",
    "    hist, bins = np.histogram(data_slice, bins = data.shape[1] + 1, range = (0, data.shape[1] + 1))\n",
    "#     print(type(hist))\n",
    "    sorted_vector = np.sort(hist)[::-1]\n",
    "\n",
    "#     print(f'hist, bins = {hist, bins}')\n",
    "    indxs = np.argsort(hist)[::-1]\n",
    "#     print(f'indxs = {indxs}')\n",
    "    return indxs[:num_samples] , sorted_vector[:num_samples]"
   ]
  },
  {
   "cell_type": "code",
   "execution_count": null,
   "id": "5016a457",
   "metadata": {},
   "outputs": [],
   "source": [
    "def take_from_vector(feature_vector, indxs):\n",
    "    return feature_vector[indxs]"
   ]
  },
  {
   "cell_type": "code",
   "execution_count": null,
   "id": "9a486eef",
   "metadata": {},
   "outputs": [],
   "source": []
  }
 ],
 "metadata": {
  "kernelspec": {
   "display_name": "Python 3 (ipykernel)",
   "language": "python",
   "name": "python3"
  },
  "language_info": {
   "codemirror_mode": {
    "name": "ipython",
    "version": 3
   },
   "file_extension": ".py",
   "mimetype": "text/x-python",
   "name": "python",
   "nbconvert_exporter": "python",
   "pygments_lexer": "ipython3",
   "version": "3.9.12"
  }
 },
 "nbformat": 4,
 "nbformat_minor": 5
}
