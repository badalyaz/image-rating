{
 "cells": [
  {
   "cell_type": "code",
   "execution_count": 1,
   "id": "6ff3e8ab",
   "metadata": {},
   "outputs": [],
   "source": [
    "from final_utils import *\n",
    "from Sufflenet_CNN_FC import *\n",
    "root_path = generate_root_path()"
   ]
  },
  {
   "cell_type": "code",
   "execution_count": 2,
   "id": "7b6c5498",
   "metadata": {},
   "outputs": [],
   "source": [
    "model = shufflenet_cnn_fc()\n",
    "model.build([1, 600, 600, 3])\n",
    "model.load_weights('models/Shufflenet_FC/Shufflenet_fc_28.09.h5')"
   ]
  },
  {
   "cell_type": "code",
   "execution_count": 3,
   "id": "92e28024",
   "metadata": {},
   "outputs": [],
   "source": [
    "good_imgs_path = glob(os.path.join(root_path, 'Data', 'benchmark', 'images', 'good', '*'))\n",
    "bad_imgs_path = glob(os.path.join(root_path, 'Data', 'benchmark', 'images', 'bad', '*'))\n",
    "\n",
    "good_imgs_path_2 = glob(os.path.join(root_path, 'Data', 'benchmark2', 'images', 'good', '*'))\n",
    "bad_imgs_path_2 = glob(os.path.join(root_path, 'Data', 'benchmark2', 'images', 'bad', '*'))\n",
    "\n",
    "good_alm_imgs_path = glob(os.path.join(root_path, 'Data', 'splitted', 'images', 'good', '*'))\n",
    "bad_alm_imgs_path = glob(os.path.join(root_path, 'Data', 'splitted', 'images', 'bad', '*'))\n",
    "\n",
    "good_rand_imgs_path = glob(os.path.join(root_path, 'Data', 'data', 'images', 'good', '*'))\n",
    "bad_rand_imgs_path = glob(os.path.join(root_path, 'Data', 'data', 'images', 'bad', '*'))\n",
    "\n",
    "bad_coco_imgs_path = glob(os.path.join(root_path, 'Data', 'Coco', 'images', 'bad', '*'))\n",
    "\n",
    "paths_bench = good_imgs_path + bad_imgs_path\n",
    "labels_bench = np.concatenate((np.ones(len(good_imgs_path)), np.zeros(len(bad_imgs_path))))\n",
    "\n",
    "paths_bench_2 = good_imgs_path_2 + bad_imgs_path_2\n",
    "labels_bench_2 = np.concatenate((np.ones(len(good_imgs_path_2)), np.zeros(len(bad_imgs_path_2))))\n",
    "\n",
    "paths_alm_bench = good_alm_imgs_path + bad_alm_imgs_path\n",
    "labels_alm_bench = np.concatenate((np.ones(len(good_alm_imgs_path)), np.zeros(len(bad_alm_imgs_path))))\n",
    "\n",
    "paths_rand_bench = good_rand_imgs_path + bad_rand_imgs_path\n",
    "labels_rand_bench = np.concatenate((np.ones(len(good_rand_imgs_path)), np.zeros(len(bad_rand_imgs_path))))\n",
    "\n",
    "paths_coco_bench = bad_coco_imgs_path\n",
    "labels_coco_bench = np.zeros(len(bad_coco_imgs_path))"
   ]
  },
  {
   "cell_type": "code",
   "execution_count": 4,
   "id": "4a46ef48",
   "metadata": {},
   "outputs": [],
   "source": [
    "def calc_acc(labels, predicted):\n",
    "    return np.sum(np.array(labels) == np.argmax(np.array(predicted), axis=1)) / len(labels)\n",
    "\n",
    "def predict_from_path(model, paths, resize_func=None, size=None, for_all=False, model_CNN=None, is_norm=False):\n",
    "    #always requires list of paths\n",
    "    predicted = []\n",
    "    \n",
    "    for i, path in enumerate(paths):\n",
    "        img_mg = read_img(path=path, resize_func=resize_func, size=size, for_all=for_all)\n",
    "        pred_score = model.predict(img_mg, verbose=0)\n",
    "        predicted.append(pred_score)\n",
    "    \n",
    "    predicted = np.array(predicted)\n",
    "    predicted = np.squeeze(predicted)\n",
    "        \n",
    "    return predicted"
   ]
  },
  {
   "attachments": {},
   "cell_type": "markdown",
   "id": "d07f5ed1",
   "metadata": {},
   "source": [
    "### Prediction on benchmark"
   ]
  },
  {
   "cell_type": "code",
   "execution_count": 5,
   "id": "f5d399fb",
   "metadata": {
    "scrolled": true
   },
   "outputs": [],
   "source": [
    "predicted = predict_from_path(model, paths_bench, resize_func=resize_add_border, size=(600, 600))"
   ]
  },
  {
   "cell_type": "code",
   "execution_count": 6,
   "id": "b9a35944",
   "metadata": {},
   "outputs": [
    {
     "name": "stdout",
     "output_type": "stream",
     "text": [
      "Accuracy: 0.7927927927927928\n"
     ]
    }
   ],
   "source": [
    "acc = calc_acc(labels_bench, predicted)\n",
    "print(f'Accuracy: {acc}')"
   ]
  },
  {
   "attachments": {},
   "cell_type": "markdown",
   "id": "ac68ae26",
   "metadata": {},
   "source": [
    "### Prediction on benchmark 2"
   ]
  },
  {
   "cell_type": "code",
   "execution_count": 7,
   "id": "e33255dc",
   "metadata": {},
   "outputs": [],
   "source": [
    "predicted = predict_from_path(model, paths_bench_2, resize_func=resize_add_border, size=(600, 600))"
   ]
  },
  {
   "cell_type": "code",
   "execution_count": 8,
   "id": "2b8665f1",
   "metadata": {},
   "outputs": [
    {
     "name": "stdout",
     "output_type": "stream",
     "text": [
      "Accuracy: 0.7920696324951644\n"
     ]
    }
   ],
   "source": [
    "acc = calc_acc(labels_bench_2, predicted)\n",
    "print(f'Accuracy: {acc}')"
   ]
  },
  {
   "attachments": {},
   "cell_type": "markdown",
   "id": "30d45a5d",
   "metadata": {},
   "source": [
    "### Prediction on COCO"
   ]
  },
  {
   "cell_type": "code",
   "execution_count": 9,
   "id": "da4f205f",
   "metadata": {},
   "outputs": [],
   "source": [
    "predicted = predict_from_path(model, paths_coco_bench, resize_func=resize_add_border, size=(600, 600))"
   ]
  },
  {
   "cell_type": "code",
   "execution_count": 10,
   "id": "0e01a154",
   "metadata": {},
   "outputs": [
    {
     "name": "stdout",
     "output_type": "stream",
     "text": [
      "Accuracy: 0.825\n"
     ]
    }
   ],
   "source": [
    "acc = calc_acc(labels_coco_bench, predicted)\n",
    "print(f'Accuracy: {acc}')"
   ]
  },
  {
   "attachments": {},
   "cell_type": "markdown",
   "id": "fb9b3f2e",
   "metadata": {},
   "source": [
    "### Prediction on benchmark"
   ]
  },
  {
   "cell_type": "code",
   "execution_count": 11,
   "id": "11707c55",
   "metadata": {},
   "outputs": [],
   "source": [
    "predicted = predict_from_path(model, paths_alm_bench, resize_func=resize_add_border, size=(600, 600))"
   ]
  },
  {
   "cell_type": "code",
   "execution_count": 12,
   "id": "f412c5f2",
   "metadata": {},
   "outputs": [
    {
     "name": "stdout",
     "output_type": "stream",
     "text": [
      "Accuracy: 0.845\n"
     ]
    }
   ],
   "source": [
    "acc = calc_acc(labels_alm_bench, predicted)\n",
    "print(f'Accuracy: {acc}')"
   ]
  },
  {
   "attachments": {},
   "cell_type": "markdown",
   "id": "f6185f50",
   "metadata": {},
   "source": [
    "### Prediction on custom data"
   ]
  },
  {
   "cell_type": "code",
   "execution_count": 13,
   "id": "d1a80a1a",
   "metadata": {},
   "outputs": [],
   "source": [
    "predicted = predict_from_path(model, paths_rand_bench, resize_func=resize_add_border, size=(600, 600))"
   ]
  },
  {
   "cell_type": "code",
   "execution_count": 14,
   "id": "12c9dc57",
   "metadata": {},
   "outputs": [
    {
     "name": "stdout",
     "output_type": "stream",
     "text": [
      "Accuracy: 0.8\n"
     ]
    }
   ],
   "source": [
    "acc = calc_acc(labels_rand_bench, predicted)\n",
    "print(f'Accuracy: {acc}')"
   ]
  },
  {
   "cell_type": "code",
   "execution_count": null,
   "id": "70533e47",
   "metadata": {},
   "outputs": [],
   "source": []
  }
 ],
 "metadata": {
  "kernelspec": {
   "display_name": "Python 3 (ipykernel)",
   "language": "python",
   "name": "python3"
  },
  "language_info": {
   "codemirror_mode": {
    "name": "ipython",
    "version": 3
   },
   "file_extension": ".py",
   "mimetype": "text/x-python",
   "name": "python",
   "nbconvert_exporter": "python",
   "pygments_lexer": "ipython3",
   "version": "3.9.12"
  }
 },
 "nbformat": 4,
 "nbformat_minor": 5
}
