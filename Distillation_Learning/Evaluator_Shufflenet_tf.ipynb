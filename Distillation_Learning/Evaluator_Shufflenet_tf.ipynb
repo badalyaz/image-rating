{
 "cells": [
  {
   "cell_type": "code",
   "execution_count": 2,
   "id": "7c3dd1f5",
   "metadata": {},
   "outputs": [],
   "source": [
    "from shufflenetV2_tf2 import *\n",
    "from final_utils import *"
   ]
  },
  {
   "cell_type": "code",
   "execution_count": 3,
   "id": "db50f10f",
   "metadata": {},
   "outputs": [],
   "source": [
    "root_path = generate_root_path()"
   ]
  },
  {
   "attachments": {},
   "cell_type": "markdown",
   "id": "4df9dc19",
   "metadata": {},
   "source": [
    "## Giving path of folder"
   ]
  },
  {
   "cell_type": "code",
   "execution_count": 4,
   "id": "7ba04837",
   "metadata": {},
   "outputs": [],
   "source": [
    "if True:\n",
    "    benchmark = 'benchmark'\n",
    "    good_imgs_path = glob(os.path.join(root_path, 'Data', 'benchmark', 'images', 'good', '*'))\n",
    "    bad_imgs_path = glob(os.path.join(root_path, 'Data', 'benchmark','images', 'bad', '*'))\n",
    "else:\n",
    "    benchmark = 'benchmark2'\n",
    "    good_imgs_path = glob(os.path.join(root_path, 'Data', 'benchmark2', 'images', 'good', '*'))\n",
    "    bad_imgs_path = glob(os.path.join(root_path, 'Data', 'benchmark2','images', 'bad', '*'))\n",
    "#     good_imgs_path = glob(os.path.join(root_path, 'Data', 'splitted', 'bench', 'images', 'good', '*'))\n",
    "#     bad_imgs_path = glob(os.path.join(root_path, 'Data', 'splitted', 'bench', 'images', 'bad', '*'))\n",
    "\n",
    "good_imgs_path = sorted(good_imgs_path)\n",
    "bad_imgs_path = sorted(bad_imgs_path)\n",
    "\n",
    "paths = good_imgs_path + bad_imgs_path\n",
    "labels = np.concatenate((np.ones(len(good_imgs_path)) ,np.zeros(len(bad_imgs_path))))"
   ]
  },
  {
   "attachments": {},
   "cell_type": "markdown",
   "id": "fac8aebf",
   "metadata": {},
   "source": [
    "### Extracting features of benchmark data with Shufflenet and Multigap"
   ]
  },
  {
   "attachments": {},
   "cell_type": "markdown",
   "id": "895ba4ab",
   "metadata": {},
   "source": [
    "#### MG"
   ]
  },
  {
   "cell_type": "code",
   "execution_count": 6,
   "id": "43359b28",
   "metadata": {},
   "outputs": [],
   "source": [
    "model_gap = model_inceptionresnet_multigap()\n",
    "\n",
    "feats_MG = 'all_res_996'"
   ]
  },
  {
   "cell_type": "code",
   "execution_count": null,
   "id": "21be3ff6",
   "metadata": {},
   "outputs": [],
   "source": [
    "# benchmark good\n",
    "source_file = root_path + f'Data/{benchmark}/images/good' \n",
    "target_file = root_path + f'Data/{benchmark}/features/mg/{feats_MG}/'\n",
    "\n",
    "extract_features_from_path_automated_json(\n",
    "                                     source_file=source_file,\n",
    "                                     target_file=target_file,\n",
    "                                     label='good',\n",
    "                                     splitted='',\n",
    "                                     model=model_gap, \n",
    "                                     resize_func=resize_max,\n",
    "                                     size=(996,996),\n",
    "                                     for_all=True,\n",
    "                                     crop_func=None,\n",
    "                                     save_json=False)"
   ]
  },
  {
   "cell_type": "code",
   "execution_count": null,
   "id": "35a5c76d",
   "metadata": {},
   "outputs": [],
   "source": [
    "# benchmark bad\n",
    "source_file = root_path + f'Data/{benchmark}/images/bad' \n",
    "target_file = root_path + f'Data/{benchmark}/features/mg/{feats_MG}/'\n",
    "\n",
    "extract_features_from_path_automated_json(\n",
    "                                     source_file=source_file,\n",
    "                                     target_file=target_file,\n",
    "                                     label='bad',\n",
    "                                     splitted='',\n",
    "                                     model=model_gap, \n",
    "                                     resize_func=resize_max,\n",
    "                                     size=(996,996),\n",
    "                                     for_all=True,\n",
    "                                     crop_func=None,\n",
    "                                     save_json=False)"
   ]
  },
  {
   "attachments": {},
   "cell_type": "markdown",
   "id": "2ef0fde2",
   "metadata": {},
   "source": [
    "#### Shufflenet"
   ]
  },
  {
   "cell_type": "code",
   "execution_count": 7,
   "id": "50155a3b",
   "metadata": {},
   "outputs": [],
   "source": [
    "model_sn = ShufflenetV2(num_classes=8464, training=True)\n",
    "model_sn.build([1, 600, 600, 3])\n",
    "model_sn.load_weights('models/ShuffleNet/Shufflenet_border_600x600_labels_MG_all_res_996_27.09.h5')\n",
    "\n",
    "feats_Shufflenet = 'border_600x600'"
   ]
  },
  {
   "cell_type": "code",
   "execution_count": null,
   "id": "491dff01",
   "metadata": {},
   "outputs": [],
   "source": [
    "# benchmark good\n",
    "source_file = root_path + f'Data/{benchmark}/images/good' \n",
    "target_file = root_path + f'Data/{benchmark}/features/shufflenet/{feats_Shufflenet}/'\n",
    "\n",
    "extract_features_from_path_automated_json(\n",
    "                                     source_file=source_file,\n",
    "                                     target_file=target_file,\n",
    "                                     label='good',\n",
    "                                     splitted='',\n",
    "                                     model=model_sn, \n",
    "                                     resize_func=resize_add_border,\n",
    "                                     size=(600,600),\n",
    "                                     crop_func=None,\n",
    "                                     save_json=False)"
   ]
  },
  {
   "cell_type": "code",
   "execution_count": null,
   "id": "3f5cbdae",
   "metadata": {},
   "outputs": [],
   "source": [
    "# benchmark bad\n",
    "source_file = root_path + f'Data/{benchmark}/images/bad' \n",
    "target_file = root_path + f'Data/{benchmark}/features/shufflenet/{feats_Shufflenet}/'\n",
    "\n",
    "extract_features_from_path_automated_json(\n",
    "                                     source_file=source_file,\n",
    "                                     target_file=target_file,\n",
    "                                     label='bad',\n",
    "                                     splitted='',\n",
    "                                     model=model_sn, \n",
    "                                     resize_func=resize_add_border,\n",
    "                                     size=(600,600),\n",
    "                                     crop_func=None,\n",
    "                                     save_json=False)"
   ]
  },
  {
   "attachments": {},
   "cell_type": "markdown",
   "id": "b786577e",
   "metadata": {},
   "source": [
    "### Loading features of benchmark data with Shufflenet and Multigap from .json"
   ]
  },
  {
   "cell_type": "code",
   "execution_count": 8,
   "id": "7922f57c",
   "metadata": {},
   "outputs": [],
   "source": [
    "benchmark_feats_path = root_path + f'Data/{benchmark}/'\n",
    "benchmark_multigap_feats = []\n",
    "benchmark_shufflenet_feats = []\n",
    "path = 'models/PCA/PCA_MG_8464_auto.pkl'\n",
    "pca = pk.load(open(path,'rb'))\n",
    "\n",
    "benchmark_good_json = open(f'{benchmark_feats_path}/data_good.json')\n",
    "benchmark_bad_json = open(f'{benchmark_feats_path}/data_bad.json')\n",
    "benchmark_good_feats = json.load(benchmark_good_json)\n",
    "benchmark_bad_feats = json.load(benchmark_bad_json)\n",
    "\n",
    "for data in benchmark_good_feats:\n",
    "    multigap_feats_path = benchmark_feats_path + f'features/mg/{feats_MG}/' + data['feature']\n",
    "    shufflenet_feats_path = benchmark_feats_path + f'features/shufflenet/{feats_Shufflenet}/' + data['feature']\n",
    "    benchmark_multigap_feats.append(pca.transform(np.load(multigap_feats_path))) #added pca\n",
    "    benchmark_shufflenet_feats.append(np.load(shufflenet_feats_path))\n",
    "\n",
    "for data in benchmark_bad_feats:\n",
    "    multigap_feats_path = benchmark_feats_path + f'features/mg/{feats_MG}/' + data['feature']\n",
    "    shufflenet_feats_path = benchmark_feats_path + f'features/shufflenet/{feats_Shufflenet}/' + data['feature']\n",
    "    benchmark_multigap_feats.append(pca.transform(np.load(multigap_feats_path))) #added pca\n",
    "    benchmark_shufflenet_feats.append(np.load(shufflenet_feats_path))\n",
    "    \n",
    "benchmark_shufflenet_feats = np.squeeze(benchmark_shufflenet_feats)\n",
    "benchmark_multigap_feats = np.squeeze(benchmark_multigap_feats)"
   ]
  },
  {
   "attachments": {},
   "cell_type": "markdown",
   "id": "3294a2c0",
   "metadata": {},
   "source": [
    "## Creating model"
   ]
  },
  {
   "cell_type": "code",
   "execution_count": 9,
   "id": "24628530",
   "metadata": {},
   "outputs": [],
   "source": [
    "model = fc_model_softmax(input_num=8464)\n",
    "weights_path = 'models/Softmax/model_fc_softmax_8k.hdf5'\n",
    "\n",
    "model.load_weights(weights_path)"
   ]
  },
  {
   "attachments": {},
   "cell_type": "markdown",
   "id": "127549b3",
   "metadata": {},
   "source": [
    "## Prediction"
   ]
  },
  {
   "cell_type": "code",
   "execution_count": 18,
   "id": "8c814dd3",
   "metadata": {},
   "outputs": [
    {
     "data": {
      "text/plain": [
       "array([1, 1, 1, 1, 1, 0, 1, 1, 1, 1, 1, 1, 0, 1, 0, 0, 0, 1, 1, 1, 1, 1,\n",
       "       1, 1, 1, 1, 0, 1, 0, 1, 1, 1, 1, 1, 1, 1, 1, 1, 1, 1, 0, 1, 1, 1,\n",
       "       1, 1, 1, 0, 0, 0, 0, 0, 0, 1, 0, 1, 0, 0, 1, 0, 1, 0, 1, 0, 0, 0,\n",
       "       0, 0, 0, 0, 0, 0, 0, 0, 0, 0, 0, 0, 0, 1, 1, 0, 0, 0, 0, 0, 0, 1,\n",
       "       0, 1, 1, 0, 0, 0, 0, 0, 0, 1, 0, 0, 0, 0, 0, 0, 1, 0, 0, 0, 1, 0,\n",
       "       0], dtype=int64)"
      ]
     },
     "execution_count": 18,
     "metadata": {},
     "output_type": "execute_result"
    }
   ],
   "source": [
    "multigap_predicted = model.predict(benchmark_multigap_feats, verbose=0)\n",
    "multigap_predicted_binary = np.argmax(multigap_predicted, axis=1)\n",
    "multigap_predicted_binary"
   ]
  },
  {
   "cell_type": "code",
   "execution_count": 19,
   "id": "d64ac19f",
   "metadata": {},
   "outputs": [
    {
     "data": {
      "text/plain": [
       "array([1, 1, 0, 0, 1, 1, 1, 1, 1, 1, 1, 0, 1, 0, 1, 1, 1, 1, 1, 0, 1, 1,\n",
       "       0, 1, 0, 0, 1, 0, 0, 0, 1, 0, 1, 1, 1, 1, 0, 0, 1, 1, 1, 0, 1, 1,\n",
       "       1, 0, 1, 1, 1, 0, 1, 1, 0, 0, 0, 1, 0, 0, 0, 0, 1, 0, 1, 0, 0, 1,\n",
       "       0, 1, 0, 0, 1, 1, 1, 0, 0, 0, 1, 1, 0, 0, 0, 0, 0, 0, 1, 0, 0, 0,\n",
       "       0, 1, 0, 0, 1, 0, 0, 1, 0, 1, 0, 1, 0, 1, 1, 0, 1, 0, 1, 0, 0, 0,\n",
       "       1], dtype=int64)"
      ]
     },
     "execution_count": 19,
     "metadata": {},
     "output_type": "execute_result"
    }
   ],
   "source": [
    "shufflenet_predicted = model.predict(benchmark_shufflenet_feats, verbose=0)\n",
    "shufflenet_predicted_binary = np.argmax(shufflenet_predicted, axis=1)\n",
    "shufflenet_predicted_binary"
   ]
  },
  {
   "attachments": {},
   "cell_type": "markdown",
   "id": "cf9c7987",
   "metadata": {},
   "source": [
    "## Binary Accuracy"
   ]
  },
  {
   "cell_type": "code",
   "execution_count": 20,
   "id": "e5a39b00",
   "metadata": {},
   "outputs": [],
   "source": [
    "def calc_acc(labels, predicted):\n",
    "    return (labels == predicted).sum() / len(labels)"
   ]
  },
  {
   "cell_type": "code",
   "execution_count": 21,
   "id": "debc66b0",
   "metadata": {},
   "outputs": [
    {
     "name": "stdout",
     "output_type": "stream",
     "text": [
      "Accuracy shufflenet with multigap predicted: 0.5675675675675675\n"
     ]
    }
   ],
   "source": [
    "acc = calc_acc(multigap_predicted_binary, shufflenet_predicted_binary)\n",
    "print(f'Accuracy shufflenet with multigap predicted: {acc}')"
   ]
  },
  {
   "cell_type": "code",
   "execution_count": 22,
   "id": "e12849bd",
   "metadata": {},
   "outputs": [
    {
     "name": "stdout",
     "output_type": "stream",
     "text": [
      "Accuracy multigap with original binary labels: 0.8108108108108109\n"
     ]
    }
   ],
   "source": [
    "acc = calc_acc(multigap_predicted_binary, labels)\n",
    "print(f'Accuracy multigap with original binary labels: {acc}')"
   ]
  },
  {
   "cell_type": "code",
   "execution_count": 23,
   "id": "c15fefd7",
   "metadata": {},
   "outputs": [
    {
     "name": "stdout",
     "output_type": "stream",
     "text": [
      "Accuracy shufflenet with original binary labels: 0.6306306306306306\n"
     ]
    }
   ],
   "source": [
    "acc = calc_acc(labels, shufflenet_predicted_binary)\n",
    "print(f'Accuracy shufflenet with original binary labels: {acc}')"
   ]
  },
  {
   "attachments": {},
   "cell_type": "markdown",
   "id": "b791df65",
   "metadata": {},
   "source": [
    "## L1 on probabilities"
   ]
  },
  {
   "cell_type": "code",
   "execution_count": 24,
   "id": "b843e99d",
   "metadata": {},
   "outputs": [],
   "source": [
    "def L1_prob(tf_prob, pt_prob):\n",
    "    return ((np.abs(tf_prob[:, 0] - pt_prob[:, 0]) + np.abs(tf_prob[:, 1] - pt_prob[:, 1])) / 2).mean()"
   ]
  },
  {
   "cell_type": "code",
   "execution_count": 25,
   "id": "5cea925a",
   "metadata": {},
   "outputs": [
    {
     "data": {
      "text/plain": [
       "0.42557737"
      ]
     },
     "execution_count": 25,
     "metadata": {},
     "output_type": "execute_result"
    }
   ],
   "source": [
    "L1_prob(multigap_predicted, shufflenet_predicted)"
   ]
  },
  {
   "attachments": {},
   "cell_type": "markdown",
   "id": "b309b24a",
   "metadata": {},
   "source": [
    "## L1 on features"
   ]
  },
  {
   "cell_type": "code",
   "execution_count": 26,
   "id": "ac5f89d2",
   "metadata": {},
   "outputs": [],
   "source": [
    "def L1(tf_feats, pt_feats):\n",
    "    return np.abs(tf_feats - pt_feats).mean()"
   ]
  },
  {
   "cell_type": "code",
   "execution_count": 27,
   "id": "f9cb19b6",
   "metadata": {},
   "outputs": [
    {
     "data": {
      "text/plain": [
       "0.022458276"
      ]
     },
     "execution_count": 27,
     "metadata": {},
     "output_type": "execute_result"
    }
   ],
   "source": [
    "L1(benchmark_multigap_feats, benchmark_shufflenet_feats)"
   ]
  },
  {
   "attachments": {},
   "cell_type": "markdown",
   "id": "104f4007",
   "metadata": {},
   "source": [
    "## Plotting"
   ]
  },
  {
   "cell_type": "code",
   "execution_count": 9,
   "id": "9e83ebb4",
   "metadata": {},
   "outputs": [],
   "source": [
    "benchmark_multigap_feats = np.squeeze(benchmark_multigap_feats)"
   ]
  },
  {
   "cell_type": "code",
   "execution_count": 10,
   "id": "a5a226de",
   "metadata": {},
   "outputs": [],
   "source": [
    "benchmark_shufflenet_feats = np.squeeze(benchmark_shufflenet_feats)"
   ]
  },
  {
   "cell_type": "code",
   "execution_count": 13,
   "id": "feea924a",
   "metadata": {},
   "outputs": [
    {
     "name": "stdout",
     "output_type": "stream",
     "text": [
      "Scatter of 100 vector with given range (1, 80)\n"
     ]
    },
    {
     "data": {
      "image/png": "[encoded data removed]",
      "text/plain": [
       "<Figure size 432x288 with 1 Axes>"
      ]
     },
     "metadata": {
      "needs_background": "light"
     },
     "output_type": "display_data"
    }
   ],
   "source": [
    "i_element = 100\n",
    "feats_range = (1, 80)\n",
    "\n",
    "print(f'Scatter of {i_element} vector with given range {feats_range}')\n",
    "\n",
    "plt.scatter(np.arange(feats_range[0], feats_range[1]), benchmark_multigap_feats[i_element][feats_range[0]:feats_range[1]], label='Multigap');\n",
    "plt.scatter(np.arange(feats_range[0], feats_range[1]), benchmark_shufflenet_feats[i_element][feats_range[0]:feats_range[1]], label='ShuffleNet');\n",
    "plt.legend()\n",
    "plt.show();"
   ]
  },
  {
   "cell_type": "code",
   "execution_count": null,
   "id": "f8687339",
   "metadata": {},
   "outputs": [],
   "source": []
  }
 ],
 "metadata": {
  "kernelspec": {
   "display_name": "Python 3 (ipykernel)",
   "language": "python",
   "name": "python3"
  },
  "language_info": {
   "codemirror_mode": {
    "name": "ipython",
    "version": 3
   },
   "file_extension": ".py",
   "mimetype": "text/x-python",
   "name": "python",
   "nbconvert_exporter": "python",
   "pygments_lexer": "ipython3",
   "version": "3.9.12"
  }
 },
 "nbformat": 4,
 "nbformat_minor": 5
}
