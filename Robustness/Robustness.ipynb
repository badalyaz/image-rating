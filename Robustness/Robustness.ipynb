{
 "cells": [
  {
   "cell_type": "code",
   "execution_count": 2,
   "id": "7c3dd1f5",
   "metadata": {},
   "outputs": [],
   "source": [
    "from final_utils import *"
   ]
  },
  {
   "cell_type": "code",
   "execution_count": 3,
   "id": "3e4a8fc1",
   "metadata": {},
   "outputs": [],
   "source": [
    "root_path = generate_root_path()"
   ]
  },
  {
   "cell_type": "code",
   "execution_count": null,
   "id": "1a37679d",
   "metadata": {},
   "outputs": [],
   "source": [
    "#importing denoiser\n",
    "import import_ipynb\n",
    "%cd Denoiser\n",
    "from denoiser import Denoiser\n",
    "%cd .."
   ]
  },
  {
   "attachments": {},
   "cell_type": "markdown",
   "id": "3294a2c0",
   "metadata": {},
   "source": [
    "## Creating model"
   ]
  },
  {
   "cell_type": "code",
   "execution_count": 9,
   "id": "24628530",
   "metadata": {},
   "outputs": [],
   "source": [
    "#creating feature extractors\n",
    "model_gap = model_inceptionresnet_multigap()\n",
    "model_CNN = tf.keras.Sequential([hub.KerasLayer(\"https://tfhub.dev/tensorflow/efficientnet/b7/feature-vector/1\",trainable=False) ])\n",
    "\n",
    "#creating dense and loading the weights\n",
    "model = fc_model_softmax(input_num=9744)\n",
    "weights_path = f'models/Softmax/MG_CNN/model_fc_softmax_MG_8k_B7_1k_600x600.hdf5'\n",
    "model.load_weights(weights_path)\n",
    "\n",
    "#loading pca models\n",
    "pca_mg = pk.load(open('models/PCA/PCA_MG_8464_auto.pkl','rb'))\n",
    "pca_cnn = pk.load(open('models/PCA/PCA_CNN_1280_auto.pkl','rb'))"
   ]
  },
  {
   "attachments": {},
   "cell_type": "markdown",
   "id": "4df9dc19",
   "metadata": {},
   "source": [
    "## Giving path of folder"
   ]
  },
  {
   "cell_type": "code",
   "execution_count": 6,
   "id": "7ba04837",
   "metadata": {},
   "outputs": [],
   "source": [
    "good_imgs_path = glob(os.path.join(root_path, 'Data', 'benchmark', 'images', 'good', '*'))\n",
    "bad_imgs_path = glob(os.path.join(root_path, 'Data', 'benchmark', 'images', 'bad', '*'))\n",
    "\n",
    "good_imgs_path_2 = glob(os.path.join(root_path, 'Data', 'benchmark2', 'images', 'good', '*'))\n",
    "bad_imgs_path_2 = glob(os.path.join(root_path, 'Data', 'benchmark2', 'images', 'bad', '*'))\n",
    "\n",
    "good_alm_imgs_path = glob(os.path.join(root_path, 'Data', 'splitted', 'bench', 'images', 'good', '*'))\n",
    "bad_alm_imgs_path = glob(os.path.join(root_path, 'Data', 'splitted', 'bench', 'images', 'bad', '*'))\n",
    "\n",
    "good_rand_imgs_path = glob(os.path.join(root_path, 'Data', 'custom_data', 'images', 'good', '*'))\n",
    "bad_rand_imgs_path = glob(os.path.join(root_path, 'Data', 'custom_data', 'images', 'bad', '*'))\n",
    "\n",
    "paths_bench = good_imgs_path + bad_imgs_path\n",
    "labels_bench = np.concatenate((np.ones(len(good_imgs_path)) ,np.zeros(len(bad_imgs_path))))\n",
    "labels_bench_joint = np.concatenate((np.ones(6*len(good_imgs_path)) ,np.zeros(6*len(bad_imgs_path))))\n",
    "\n",
    "paths_bench_2 = good_imgs_path_2 + bad_imgs_path_2\n",
    "labels_bench_2 = np.concatenate((np.ones(len(good_imgs_path_2)) ,np.zeros(len(bad_imgs_path_2))))\n",
    "labels_bench_joint_2 = np.concatenate((np.ones(6*len(good_imgs_path_2)) ,np.zeros(6*len(bad_imgs_path_2))))\n",
    "\n",
    "paths_alm_bench = good_alm_imgs_path + bad_alm_imgs_path\n",
    "labels_alm_bench = np.concatenate((np.ones(len(good_alm_imgs_path)) ,np.zeros(len(bad_alm_imgs_path))))\n",
    "labels_alm_bench_joint = np.concatenate((np.ones(6*len(good_alm_imgs_path)) ,np.zeros(6*len(bad_alm_imgs_path))))\n",
    "\n",
    "paths_rand_bench = good_rand_imgs_path + bad_rand_imgs_path\n",
    "labels_rand_bench = np.concatenate((np.ones(len(good_rand_imgs_path)) ,np.zeros(len(bad_rand_imgs_path))))\n",
    "labels_rand_bench_joint = np.concatenate((np.ones(6*len(good_rand_imgs_path)) ,np.zeros(6*len(bad_rand_imgs_path))))"
   ]
  },
  {
   "attachments": {},
   "cell_type": "markdown",
   "id": "0c29a31e",
   "metadata": {},
   "source": [
    "#### Necessary functions"
   ]
  },
  {
   "cell_type": "code",
   "execution_count": 7,
   "id": "6d47f4a9",
   "metadata": {},
   "outputs": [],
   "source": [
    "def calc_acc(labels, predicted):\n",
    "    acc = np.sum(np.array(labels) == np.argmax(np.array(predicted), axis=1)) / len(labels)\n",
    "    return np.round(acc * 100, 2)\n",
    "\n",
    "def add_gauss_noise(img, noise_param):\n",
    "    gauss = np.random.normal(0, noise_param, img.size)\n",
    "    gauss = gauss.reshape(img.shape[0],img.shape[1],img.shape[2]).astype('uint8')\n",
    "    # Add the Gaussian noise to the image\n",
    "    img = cv2.add(img, gauss)\n",
    "    return img\n",
    "\n",
    "def sharpness(img):\n",
    "    kernel = np.array([[-1,-1,-1], \n",
    "                       [-1, 9,-1],\n",
    "                       [-1,-1,-1]])\n",
    "    img = cv2.filter2D(img, -1, kernel)\n",
    "    return img\n",
    "\n",
    "def denoiser(img):\n",
    "    img = cv2.fastNlMeansDenoisingColored(img, None, 10, 10, 7, 21)     \n",
    "    return img\n",
    "\n",
    "def read_img(path, preprocess=True, resize_func=None, size=None, for_all=False, aug_method=None):\n",
    "#     im = Image.open(path).convert('RGB')\n",
    "#     x = img_to_array(im)\n",
    "#     im.close()\n",
    "    x = cv2.imread(path)\n",
    "    x = x[...,::-1]\n",
    "    \n",
    "    crop_scale = (0.85, 0.9)\n",
    "    denoise_degree = 2\n",
    "    rotate_angle = 1\n",
    "    ksize = (7, 7)\n",
    "    noise_param = 0.4\n",
    "    \n",
    "    if preprocess:\n",
    "        if resize_func and for_all:\n",
    "            x = resize_func(x, size, for_all)\n",
    "        elif resize_func:\n",
    "            x = resize_func(x, size)\n",
    "            \n",
    "        if 'joint' in aug_method:\n",
    "            xd = x\n",
    "            x = x.astype(np.float32)     \n",
    "            x1 = random_crop(x, crop_scale)\n",
    "            x2 = Denoiser.denoise_without_n(xd / 255, denoise_degree)\n",
    "            x2 = x2.astype(np.float32)     \n",
    "#             x2 = denoiser(x)\n",
    "            x3 = rotate_crop(x, rotate_angle)\n",
    "            x4 = cv2.blur(x, ksize)\n",
    "            x5 = add_gauss_noise(xd, noise_param)\n",
    "            x5 = x5.astype(np.float32)     \n",
    "            x6 = sharpness(x)\n",
    "            \n",
    "            \n",
    "            x1 = np.expand_dims(x1, axis=0)\n",
    "            x2 = np.expand_dims(x2, axis=0)\n",
    "            x3 = np.expand_dims(x3, axis=0)\n",
    "            x4 = np.expand_dims(x4, axis=0)\n",
    "            x5 = np.expand_dims(x5, axis=0)\n",
    "            x6 = np.expand_dims(x6, axis=0)\n",
    "            \n",
    "            x1 = x1 / 255\n",
    "            x2 = x2 / 255\n",
    "            x3 = x3 / 255\n",
    "            x4 = x4 / 255\n",
    "            x5 = x5 / 255\n",
    "            x6 = x6 / 255\n",
    "            \n",
    "            return x1, x2, x3, x4, x5, x6\n",
    "        \n",
    "        elif 'crop' in aug_method:\n",
    "            x = x.astype(np.float32)  \n",
    "            x = random_crop(x, crop_scale)\n",
    "        elif 'denoise' in aug_method:\n",
    "            x = Denoiser.denoise_without_n(x / 255, denoise_degree)\n",
    "            x = x.astype(np.float32)  \n",
    "#             x = denoiser(x)\n",
    "        elif 'rotate' in aug_method:\n",
    "            x = x.astype(np.float32)  \n",
    "            x = rotate_crop(x, rotate_angle)\n",
    "        elif 'blur' in aug_method:\n",
    "            x = x.astype(np.float32)  \n",
    "            x = cv2.blur(x, ksize)\n",
    "        elif 'noise' in aug_method:\n",
    "            x = add_gauss_noise(x, noise_param)\n",
    "            x = x.astype(np.float32) \n",
    "        elif 'sharpness' in aug_method:\n",
    "            x = x.astype(np.float32)  \n",
    "            x = sharpness(x)\n",
    "            \n",
    "            \n",
    "        x = np.expand_dims(x, axis=0)\n",
    "        x = x / 255\n",
    "        \n",
    "    return x\n",
    "\n",
    "def predict(x, y=None, model_gap=None, model=None, model_CNN=None, pca_cnn=None, pca_mg=None):\n",
    "    '''\n",
    "    Does prediction on given numpy image using\n",
    "    model_gap and model\n",
    "    '''\n",
    "    try:\n",
    "        feat_MG = model_gap.predict(x, verbose=0)\n",
    "    except:\n",
    "        x = x[None]\n",
    "        feat_MG = model_gap.predict(x, verbose=0)\n",
    "    if pca_mg:\n",
    "        feat_MG = pca_mg.transform(feat_MG)\n",
    "    if model_CNN:\n",
    "        feat_CNN = model_CNN.predict(y, verbose=0)\n",
    "        if pca_cnn:\n",
    "            feat_CNN = pca_cnn.transform(feat_CNN)\n",
    "        feat = np.concatenate((np.squeeze(feat_MG), np.squeeze(feat_CNN)))\n",
    "        feat = feat[None]\n",
    "    else:\n",
    "        feat = feat_MG\n",
    "    pred_score = model.predict(feat, verbose=0)\n",
    "\n",
    "    return pred_score\n",
    "    \n",
    "def predict_from_path(model_gap, model, paths, resize_func=None, size=None, for_all=False, \n",
    "                      save_results=None, save_to=None, model_CNN=None, aug_method=None, pca_cnn=None, pca_mg=None):\n",
    "    #always requires list of paths\n",
    "    predicted = []\n",
    "    \n",
    "    for i, path in enumerate(paths):\n",
    "        if aug_method =='joint':\n",
    "            img_mg_1, img_mg_2, img_mg_3, img_mg_4, img_mg_5, img_mg_6 = read_img(path=path, resize_func=resize_func, size=size, for_all=for_all, aug_method=aug_method)\n",
    "        \n",
    "            img_cnn_1 = None\n",
    "            img_cnn_2 = None\n",
    "            img_cnn_3 = None\n",
    "            img_cnn_4 = None\n",
    "            img_cnn_5 = None\n",
    "            img_cnn_6 = None\n",
    "            if model_CNN:\n",
    "                img_cnn_1, img_cnn_2, img_cnn_3, img_cnn_4, img_cnn_5, img_cnn_6 = read_img(path=path, resize_func=resize_add_border, size=(600, 600), aug_method=aug_method)\n",
    "                \n",
    "            pred_score_1 = predict(img_mg_1, img_cnn_1, model_gap, model, model_CNN, pca_cnn=pca_cnn, pca_mg=pca_mg)\n",
    "            pred_score_2 = predict(img_mg_2, img_cnn_2, model_gap, model, model_CNN, pca_cnn=pca_cnn, pca_mg=pca_mg)\n",
    "            pred_score_3 = predict(img_mg_3, img_cnn_3, model_gap, model, model_CNN, pca_cnn=pca_cnn, pca_mg=pca_mg)\n",
    "            pred_score_4 = predict(img_mg_4, img_cnn_4, model_gap, model, model_CNN, pca_cnn=pca_cnn, pca_mg=pca_mg)\n",
    "            pred_score_5 = predict(img_mg_5, img_cnn_5, model_gap, model, model_CNN, pca_cnn=pca_cnn, pca_mg=pca_mg)\n",
    "            pred_score_6 = predict(img_mg_6, img_cnn_6, model_gap, model, model_CNN, pca_cnn=pca_cnn, pca_mg=pca_mg)\n",
    "            \n",
    "            predicted.append(pred_score_1)\n",
    "            predicted.append(pred_score_2)\n",
    "            predicted.append(pred_score_3)\n",
    "            predicted.append(pred_score_4)\n",
    "            predicted.append(pred_score_5)\n",
    "            predicted.append(pred_score_6)\n",
    "            \n",
    "        \n",
    "        elif aug_method == 'crop' or aug_method == 'denoise' or aug_method == 'rotate' or  aug_method == 'blur'or aug_method == 'noise'or aug_method == 'sharpness':\n",
    "            img_mg = read_img(path=path, resize_func=resize_func, size=size, for_all=for_all, aug_method=aug_method)\n",
    "            \n",
    "            img_cnn = None\n",
    "            if model_CNN:\n",
    "                img_cnn = read_img(path=path, resize_func=resize_add_border, size=(600, 600), aug_method=aug_method)    \n",
    "            pred_score = predict(img_mg, img_cnn, model_gap, model, model_CNN, pca_cnn=pca_cnn, pca_mg=pca_mg)\n",
    "            predicted.append(pred_score)\n",
    "            \n",
    "    predicted = np.array(predicted)\n",
    "    predicted = np.squeeze(predicted)\n",
    "    \n",
    "    if save_results:\n",
    "        np.save(save_to, np.argmax(predicted, axis=-1))\n",
    "        \n",
    "    return predicted"
   ]
  },
  {
   "attachments": {},
   "cell_type": "markdown",
   "id": "7de0d970",
   "metadata": {},
   "source": [
    "## Benchmark predictions"
   ]
  },
  {
   "attachments": {},
   "cell_type": "markdown",
   "id": "127549b3",
   "metadata": {},
   "source": [
    "### Joint"
   ]
  },
  {
   "cell_type": "code",
   "execution_count": 7,
   "id": "f1285db7",
   "metadata": {
    "scrolled": true
   },
   "outputs": [
    {
     "name": "stdout",
     "output_type": "stream",
     "text": [
      "WARNING:tensorflow:5 out of the last 5 calls to <function Model.make_predict_function.<locals>.predict_function at 0x0000029FCD59F5E0> triggered tf.function retracing. Tracing is expensive and the excessive number of tracings could be due to (1) creating @tf.function repeatedly in a loop, (2) passing tensors with different shapes, (3) passing Python objects instead of tensors. For (1), please define your @tf.function outside of the loop. For (2), @tf.function has reduce_retracing=True option that can avoid unnecessary retracing. For (3), please refer to https://www.tensorflow.org/guide/function#controlling_retracing and https://www.tensorflow.org/api_docs/python/tf/function for  more details.\n"
     ]
    },
    {
     "name": "stderr",
     "output_type": "stream",
     "text": [
      "WARNING:tensorflow:5 out of the last 5 calls to <function Model.make_predict_function.<locals>.predict_function at 0x0000029FCD59F5E0> triggered tf.function retracing. Tracing is expensive and the excessive number of tracings could be due to (1) creating @tf.function repeatedly in a loop, (2) passing tensors with different shapes, (3) passing Python objects instead of tensors. For (1), please define your @tf.function outside of the loop. For (2), @tf.function has reduce_retracing=True option that can avoid unnecessary retracing. For (3), please refer to https://www.tensorflow.org/guide/function#controlling_retracing and https://www.tensorflow.org/api_docs/python/tf/function for  more details.\n"
     ]
    },
    {
     "name": "stdout",
     "output_type": "stream",
     "text": [
      "WARNING:tensorflow:6 out of the last 6 calls to <function Model.make_predict_function.<locals>.predict_function at 0x0000029FCA16D310> triggered tf.function retracing. Tracing is expensive and the excessive number of tracings could be due to (1) creating @tf.function repeatedly in a loop, (2) passing tensors with different shapes, (3) passing Python objects instead of tensors. For (1), please define your @tf.function outside of the loop. For (2), @tf.function has reduce_retracing=True option that can avoid unnecessary retracing. For (3), please refer to https://www.tensorflow.org/guide/function#controlling_retracing and https://www.tensorflow.org/api_docs/python/tf/function for  more details.\n"
     ]
    },
    {
     "name": "stderr",
     "output_type": "stream",
     "text": [
      "WARNING:tensorflow:6 out of the last 6 calls to <function Model.make_predict_function.<locals>.predict_function at 0x0000029FCA16D310> triggered tf.function retracing. Tracing is expensive and the excessive number of tracings could be due to (1) creating @tf.function repeatedly in a loop, (2) passing tensors with different shapes, (3) passing Python objects instead of tensors. For (1), please define your @tf.function outside of the loop. For (2), @tf.function has reduce_retracing=True option that can avoid unnecessary retracing. For (3), please refer to https://www.tensorflow.org/guide/function#controlling_retracing and https://www.tensorflow.org/api_docs/python/tf/function for  more details.\n"
     ]
    }
   ],
   "source": [
    "predicted = predict_from_path(model_gap, model, paths_bench, resize_func=resize_max, \n",
    "                              size=(996, 996), model_CNN=model_CNN, aug_method='joint', pca_mg=pca_mg, pca_cnn=pca_cnn)"
   ]
  },
  {
   "cell_type": "code",
   "execution_count": 8,
   "id": "debc66b0",
   "metadata": {},
   "outputs": [
    {
     "name": "stdout",
     "output_type": "stream",
     "text": [
      "Accuracy: 76.13 %\n"
     ]
    }
   ],
   "source": [
    "acc = calc_acc(labels_bench_joint, predicted)\n",
    "print(f'Accuracy: {acc} %')"
   ]
  },
  {
   "cell_type": "code",
   "execution_count": 9,
   "id": "748b6f84",
   "metadata": {},
   "outputs": [
    {
     "name": "stdout",
     "output_type": "stream",
     "text": [
      "Precision: 81.87 %\n",
      "Recall: 56.03 %\n"
     ]
    }
   ],
   "source": [
    "#Precision and Recall\n",
    "pred = np.argmax(predicted, axis=1)\n",
    "calc_metrics(labels_bench_joint, pred)"
   ]
  },
  {
   "attachments": {},
   "cell_type": "markdown",
   "id": "54178a1c",
   "metadata": {},
   "source": [
    "### Rotate"
   ]
  },
  {
   "cell_type": "code",
   "execution_count": 10,
   "id": "6797099e",
   "metadata": {
    "scrolled": true
   },
   "outputs": [],
   "source": [
    "predicted = predict_from_path(model_gap, model, paths_bench, resize_func=resize_max, size=(996, 996), \n",
    "                              model_CNN=model_CNN, aug_method='rotate', pca_mg=pca_mg, pca_cnn=pca_cnn)"
   ]
  },
  {
   "cell_type": "code",
   "execution_count": 11,
   "id": "4571cd9f",
   "metadata": {},
   "outputs": [
    {
     "name": "stdout",
     "output_type": "stream",
     "text": [
      "Accuracy: 90.99 %\n"
     ]
    }
   ],
   "source": [
    "acc = calc_acc(labels_bench, predicted)\n",
    "print(f'Accuracy: {acc} %')"
   ]
  },
  {
   "cell_type": "code",
   "execution_count": 12,
   "id": "5e750525",
   "metadata": {},
   "outputs": [
    {
     "name": "stdout",
     "output_type": "stream",
     "text": [
      "Precision: 93.02 %\n",
      "Recall: 85.11 %\n"
     ]
    }
   ],
   "source": [
    "#Precision and Recall\n",
    "pred = np.argmax(predicted, axis=1)\n",
    "calc_metrics(labels_bench, pred)"
   ]
  },
  {
   "attachments": {},
   "cell_type": "markdown",
   "id": "4f253b32",
   "metadata": {},
   "source": [
    "### Crop"
   ]
  },
  {
   "cell_type": "code",
   "execution_count": 13,
   "id": "fee2dc8c",
   "metadata": {},
   "outputs": [],
   "source": [
    "predicted = predict_from_path(model_gap, model, paths_bench, resize_func=resize_max, \n",
    "                              size=(996, 996), model_CNN=model_CNN, aug_method='crop', pca_mg=pca_mg, pca_cnn=pca_cnn)"
   ]
  },
  {
   "cell_type": "code",
   "execution_count": 14,
   "id": "0000ef30",
   "metadata": {},
   "outputs": [
    {
     "name": "stdout",
     "output_type": "stream",
     "text": [
      "Accuracy: 88.29 %\n"
     ]
    }
   ],
   "source": [
    "acc = calc_acc(labels_bench, predicted)\n",
    "print(f'Accuracy: {acc} %')"
   ]
  },
  {
   "cell_type": "code",
   "execution_count": 15,
   "id": "9fc69f1f",
   "metadata": {},
   "outputs": [
    {
     "name": "stdout",
     "output_type": "stream",
     "text": [
      "Precision: 85.42 %\n",
      "Recall: 87.23 %\n"
     ]
    }
   ],
   "source": [
    "#Precision and Recall\n",
    "pred = np.argmax(predicted, axis=1)\n",
    "calc_metrics(labels_bench, pred)"
   ]
  },
  {
   "attachments": {},
   "cell_type": "markdown",
   "id": "71206da0",
   "metadata": {},
   "source": [
    "### Denoise"
   ]
  },
  {
   "cell_type": "code",
   "execution_count": 16,
   "id": "452c1733",
   "metadata": {
    "scrolled": true
   },
   "outputs": [],
   "source": [
    "predicted = predict_from_path(model_gap, model, paths_bench, resize_func=resize_max, \n",
    "                              size=(996, 996), model_CNN=model_CNN, aug_method='denoise', pca_mg=pca_mg, pca_cnn=pca_cnn)"
   ]
  },
  {
   "cell_type": "code",
   "execution_count": 17,
   "id": "f436ef66",
   "metadata": {},
   "outputs": [
    {
     "name": "stdout",
     "output_type": "stream",
     "text": [
      "Accuracy: 83.78 %\n"
     ]
    }
   ],
   "source": [
    "acc = calc_acc(labels_bench, predicted)\n",
    "print(f'Accuracy: {acc} %')"
   ]
  },
  {
   "cell_type": "code",
   "execution_count": 18,
   "id": "b45b4b7a",
   "metadata": {},
   "outputs": [
    {
     "name": "stdout",
     "output_type": "stream",
     "text": [
      "Precision: 73.02 %\n",
      "Recall: 97.87 %\n"
     ]
    }
   ],
   "source": [
    "#Precision and Recall\n",
    "pred = np.argmax(predicted, axis=1)\n",
    "calc_metrics(labels_bench, pred)"
   ]
  },
  {
   "attachments": {},
   "cell_type": "markdown",
   "id": "b515cdb9",
   "metadata": {},
   "source": [
    "### Blur"
   ]
  },
  {
   "cell_type": "code",
   "execution_count": 19,
   "id": "7a51e252",
   "metadata": {},
   "outputs": [],
   "source": [
    "predicted = predict_from_path(model_gap, model, paths_bench, resize_func=resize_max, \n",
    "                              size=(996, 996), model_CNN=model_CNN, aug_method='blur', pca_mg=pca_mg, pca_cnn=pca_cnn)"
   ]
  },
  {
   "cell_type": "code",
   "execution_count": 20,
   "id": "e79831b9",
   "metadata": {},
   "outputs": [
    {
     "name": "stdout",
     "output_type": "stream",
     "text": [
      "Accuracy: 58.56 %\n"
     ]
    }
   ],
   "source": [
    "acc = calc_acc(labels_bench, predicted)\n",
    "print(f'Accuracy: {acc} %')"
   ]
  },
  {
   "cell_type": "code",
   "execution_count": 21,
   "id": "54206ce4",
   "metadata": {},
   "outputs": [
    {
     "name": "stdout",
     "output_type": "stream",
     "text": [
      "Precision: 100.0 %\n",
      "Recall: 2.13 %\n"
     ]
    }
   ],
   "source": [
    "#Precision and Recall\n",
    "pred = np.argmax(predicted, axis=1)\n",
    "calc_metrics(labels_bench, pred)"
   ]
  },
  {
   "attachments": {},
   "cell_type": "markdown",
   "id": "7efa48fb",
   "metadata": {},
   "source": [
    "### Noise"
   ]
  },
  {
   "cell_type": "code",
   "execution_count": 22,
   "id": "d09e01bf",
   "metadata": {
    "scrolled": true
   },
   "outputs": [],
   "source": [
    "predicted = predict_from_path(model_gap, model, paths_bench, resize_func=resize_max, \n",
    "                              size=(996, 996), model_CNN=model_CNN, aug_method='noise', pca_mg=pca_mg, pca_cnn=pca_cnn)"
   ]
  },
  {
   "cell_type": "code",
   "execution_count": 23,
   "id": "4eb80936",
   "metadata": {},
   "outputs": [
    {
     "name": "stdout",
     "output_type": "stream",
     "text": [
      "Accuracy: 72.07 %\n"
     ]
    }
   ],
   "source": [
    "acc = calc_acc(labels_bench, predicted)\n",
    "print(f'Accuracy: {acc} %')"
   ]
  },
  {
   "cell_type": "code",
   "execution_count": 24,
   "id": "7ace5494",
   "metadata": {},
   "outputs": [
    {
     "name": "stdout",
     "output_type": "stream",
     "text": [
      "Precision: 90.0 %\n",
      "Recall: 38.3 %\n"
     ]
    }
   ],
   "source": [
    "#Precision and Recall\n",
    "pred = np.argmax(predicted, axis=1)\n",
    "calc_metrics(labels_bench, pred)"
   ]
  },
  {
   "attachments": {},
   "cell_type": "markdown",
   "id": "2b60926e",
   "metadata": {},
   "source": [
    "### Sharpness"
   ]
  },
  {
   "cell_type": "code",
   "execution_count": 25,
   "id": "26ddfe20",
   "metadata": {},
   "outputs": [],
   "source": [
    "predicted = predict_from_path(model_gap, model, paths_bench, resize_func=resize_max, \n",
    "                              size=(996, 996), model_CNN=model_CNN, aug_method='sharpness', pca_mg=pca_mg, pca_cnn=pca_cnn)"
   ]
  },
  {
   "cell_type": "code",
   "execution_count": 26,
   "id": "3e73892c",
   "metadata": {},
   "outputs": [
    {
     "name": "stdout",
     "output_type": "stream",
     "text": [
      "Accuracy: 61.26 %\n"
     ]
    }
   ],
   "source": [
    "acc = calc_acc(labels_bench, predicted)\n",
    "print(f'Accuracy: {acc} %')"
   ]
  },
  {
   "cell_type": "code",
   "execution_count": 27,
   "id": "c53b5c1f",
   "metadata": {},
   "outputs": [
    {
     "name": "stdout",
     "output_type": "stream",
     "text": [
      "Precision: 64.29 %\n",
      "Recall: 19.15 %\n"
     ]
    }
   ],
   "source": [
    "#Precision and Recall\n",
    "pred = np.argmax(predicted, axis=1)\n",
    "calc_metrics(labels_bench, pred)"
   ]
  },
  {
   "attachments": {},
   "cell_type": "markdown",
   "id": "842e9dbb",
   "metadata": {},
   "source": [
    "## Benchmark2 predictions"
   ]
  },
  {
   "attachments": {},
   "cell_type": "markdown",
   "id": "9319459f",
   "metadata": {},
   "source": [
    "### Joint"
   ]
  },
  {
   "cell_type": "code",
   "execution_count": 30,
   "id": "a1359cb7",
   "metadata": {
    "collapsed": true
   },
   "outputs": [
    {
     "name": "stderr",
     "output_type": "stream",
     "text": [
      "\n",
      "KeyboardInterrupt\n",
      "\n"
     ]
    }
   ],
   "source": [
    "predicted = predict_from_path(model_gap, model, paths_bench_2, resize_func=resize_max, \n",
    "                              size=(996, 996), model_CNN=model_CNN, aug_method='joint', pca_mg=pca_mg, pca_cnn=pca_cnn)"
   ]
  },
  {
   "cell_type": "code",
   "execution_count": 12,
   "id": "8f9ac4cb",
   "metadata": {
    "collapsed": true
   },
   "outputs": [
    {
     "name": "stdout",
     "output_type": "stream",
     "text": [
      "Accuracy: 0.0 %\n"
     ]
    },
    {
     "name": "stderr",
     "output_type": "stream",
     "text": [
      "C:\\Users\\CareAware\\AppData\\Local\\Temp\\ipykernel_3604\\49106229.py:2: DeprecationWarning: elementwise comparison failed; this will raise an error in the future.\n",
      "  acc = np.sum(np.array(labels) == np.argmax(np.array(predicted), axis=1)) / len(labels)\n"
     ]
    }
   ],
   "source": [
    "acc = calc_acc(labels_bench_joint_2, predicted)\n",
    "print(f'Accuracy: {acc} %')"
   ]
  },
  {
   "cell_type": "code",
   "execution_count": null,
   "id": "af2c4de0",
   "metadata": {},
   "outputs": [],
   "source": [
    "#Precision and Recall\n",
    "pred = np.argmax(predicted, axis=1)\n",
    "calc_metrics(labels_bench_joint_2, pred)"
   ]
  },
  {
   "attachments": {},
   "cell_type": "markdown",
   "id": "ea225231",
   "metadata": {},
   "source": [
    "### Rotate"
   ]
  },
  {
   "cell_type": "code",
   "execution_count": null,
   "id": "faa2362b",
   "metadata": {},
   "outputs": [],
   "source": [
    "predicted = predict_from_path(model_gap, model, paths_bench_2, resize_func=resize_max,\n",
    "                              size=(996, 996), model_CNN=model_CNN, aug_method='rotate', pca_mg=pca_mg, pca_cnn=pca_cnn)"
   ]
  },
  {
   "cell_type": "code",
   "execution_count": null,
   "id": "21347ffd",
   "metadata": {},
   "outputs": [],
   "source": [
    "acc = calc_acc(labels_bench_2, predicted)\n",
    "print(f'Accuracy: {acc} %')"
   ]
  },
  {
   "cell_type": "code",
   "execution_count": null,
   "id": "def342f2",
   "metadata": {},
   "outputs": [],
   "source": [
    "#Precision and Recall\n",
    "pred = np.argmax(predicted, axis=1)\n",
    "calc_metrics(labels_bench_2, pred)"
   ]
  },
  {
   "attachments": {},
   "cell_type": "markdown",
   "id": "2086e6c2",
   "metadata": {},
   "source": [
    "### Crop"
   ]
  },
  {
   "cell_type": "code",
   "execution_count": null,
   "id": "af7b7c1b",
   "metadata": {},
   "outputs": [],
   "source": [
    "predicted = predict_from_path(model_gap, model, paths_bench_2, resize_func=resize_max, \n",
    "                              size=(996, 996), model_CNN=model_CNN, aug_method='crop', pca_mg=pca_mg, pca_cnn=pca_cnn)"
   ]
  },
  {
   "cell_type": "code",
   "execution_count": null,
   "id": "72016056",
   "metadata": {},
   "outputs": [],
   "source": [
    "acc = calc_acc(labels_bench_2, predicted)\n",
    "print(f'Accuracy: {acc} %')"
   ]
  },
  {
   "cell_type": "code",
   "execution_count": null,
   "id": "45d630f7",
   "metadata": {},
   "outputs": [],
   "source": [
    "#Precision and Recall\n",
    "pred = np.argmax(predicted, axis=1)\n",
    "calc_metrics(labels_bench_2, pred)"
   ]
  },
  {
   "attachments": {},
   "cell_type": "markdown",
   "id": "9aca9dfd",
   "metadata": {},
   "source": [
    "### Denoise"
   ]
  },
  {
   "cell_type": "code",
   "execution_count": null,
   "id": "ce09f959",
   "metadata": {},
   "outputs": [],
   "source": [
    "predicted = predict_from_path(model_gap, model, paths_bench_2, resize_func=resize_max, \n",
    "                              size=(996, 996), model_CNN=model_CNN, aug_method='denoise', pca_mg=pca_mg, pca_cnn=pca_cnn)"
   ]
  },
  {
   "cell_type": "code",
   "execution_count": null,
   "id": "cd976237",
   "metadata": {},
   "outputs": [],
   "source": [
    "acc = calc_acc(labels_bench_2, predicted)\n",
    "print(f'Accuracy: {acc} %')"
   ]
  },
  {
   "cell_type": "code",
   "execution_count": null,
   "id": "473dc403",
   "metadata": {},
   "outputs": [],
   "source": [
    "#Precision and Recall\n",
    "pred = np.argmax(predicted, axis=1)\n",
    "calc_metrics(labels_bench_2, pred)"
   ]
  },
  {
   "attachments": {},
   "cell_type": "markdown",
   "id": "af0526eb",
   "metadata": {},
   "source": [
    "### Blur"
   ]
  },
  {
   "cell_type": "code",
   "execution_count": null,
   "id": "ee12800a",
   "metadata": {},
   "outputs": [],
   "source": [
    "predicted = predict_from_path(model_gap, model, paths_bench_2, resize_func=resize_max, \n",
    "                              size=(996, 996), model_CNN=model_CNN, aug_method='blur', pca_mg=pca_mg, pca_cnn=pca_cnn)"
   ]
  },
  {
   "cell_type": "code",
   "execution_count": null,
   "id": "b56a052b",
   "metadata": {},
   "outputs": [],
   "source": [
    "acc = calc_acc(labels_bench_2, predicted)\n",
    "print(f'Accuracy: {acc} %')"
   ]
  },
  {
   "cell_type": "code",
   "execution_count": null,
   "id": "8b92108e",
   "metadata": {},
   "outputs": [],
   "source": [
    "#Precision and Recall\n",
    "pred = np.argmax(predicted, axis=1)\n",
    "calc_metrics(labels_bench_2, pred)"
   ]
  },
  {
   "attachments": {},
   "cell_type": "markdown",
   "id": "8b7b142b",
   "metadata": {},
   "source": [
    "### Noise"
   ]
  },
  {
   "cell_type": "code",
   "execution_count": null,
   "id": "453219f1",
   "metadata": {},
   "outputs": [],
   "source": [
    "predicted = predict_from_path(model_gap, model, paths_bench_2, resize_func=resize_max, \n",
    "                              size=(996, 996), model_CNN=model_CNN, aug_method='noise', pca_mg=pca_mg, pca_cnn=pca_cnn)"
   ]
  },
  {
   "cell_type": "code",
   "execution_count": null,
   "id": "7575c7c6",
   "metadata": {},
   "outputs": [],
   "source": [
    "acc = calc_acc(labels_bench_2, predicted)\n",
    "print(f'Accuracy: {acc} %')"
   ]
  },
  {
   "cell_type": "code",
   "execution_count": null,
   "id": "a59b0911",
   "metadata": {},
   "outputs": [],
   "source": [
    "#Precision and Recall\n",
    "pred = np.argmax(predicted, axis=1)\n",
    "calc_metrics(labels_bench_2, pred)"
   ]
  },
  {
   "attachments": {},
   "cell_type": "markdown",
   "id": "8a1e49f9",
   "metadata": {},
   "source": [
    "### Sharpness"
   ]
  },
  {
   "cell_type": "code",
   "execution_count": null,
   "id": "6501ef06",
   "metadata": {},
   "outputs": [],
   "source": [
    "predicted = predict_from_path(model_gap, model, paths_bench_2, resize_func=resize_max, \n",
    "                              size=(996, 996), model_CNN=model_CNN, aug_method='sharpness', pca_mg=pca_mg, pca_cnn=pca_cnn)"
   ]
  },
  {
   "cell_type": "code",
   "execution_count": null,
   "id": "68e59f55",
   "metadata": {},
   "outputs": [],
   "source": [
    "acc = calc_acc(labels_bench_2, predicted)\n",
    "print(f'Accuracy: {acc} %')"
   ]
  },
  {
   "cell_type": "code",
   "execution_count": null,
   "id": "7bd3aa8e",
   "metadata": {},
   "outputs": [],
   "source": [
    "#Precision and Recall\n",
    "pred = np.argmax(predicted, axis=1)\n",
    "calc_metrics(labels_bench_2, pred)"
   ]
  },
  {
   "attachments": {},
   "cell_type": "markdown",
   "id": "e821b6b3",
   "metadata": {},
   "source": [
    "## Benchmark predictions"
   ]
  },
  {
   "attachments": {},
   "cell_type": "markdown",
   "id": "cd35f045",
   "metadata": {},
   "source": [
    "### Joint"
   ]
  },
  {
   "cell_type": "code",
   "execution_count": 31,
   "id": "58509e42",
   "metadata": {},
   "outputs": [],
   "source": [
    "predicted = predict_from_path(model_gap, model, paths_alm_bench, resize_func=resize_max, \n",
    "                              size=(996, 996), model_CNN=model_CNN, aug_method='joint', pca_mg=pca_mg, pca_cnn=pca_cnn)"
   ]
  },
  {
   "cell_type": "code",
   "execution_count": 32,
   "id": "cfba17f6",
   "metadata": {},
   "outputs": [
    {
     "name": "stdout",
     "output_type": "stream",
     "text": [
      "Accuracy: 76.42 %\n"
     ]
    }
   ],
   "source": [
    "acc = calc_acc(labels_alm_bench_joint, predicted)\n",
    "print(f'Accuracy: {acc} %')"
   ]
  },
  {
   "cell_type": "code",
   "execution_count": 33,
   "id": "3b5622cd",
   "metadata": {},
   "outputs": [
    {
     "name": "stdout",
     "output_type": "stream",
     "text": [
      "Precision: 90.13 %\n",
      "Recall: 59.33 %\n"
     ]
    }
   ],
   "source": [
    "#Precision and Recall\n",
    "pred = np.argmax(predicted, axis=1)\n",
    "calc_metrics(labels_alm_bench_joint, pred)"
   ]
  },
  {
   "attachments": {},
   "cell_type": "markdown",
   "id": "bb556b9e",
   "metadata": {},
   "source": [
    "### Rotate"
   ]
  },
  {
   "cell_type": "code",
   "execution_count": 34,
   "id": "83a0717f",
   "metadata": {},
   "outputs": [],
   "source": [
    "predicted = predict_from_path(model_gap, model, paths_alm_bench, resize_func=resize_max,\n",
    "                              size=(996, 996), model_CNN=model_CNN, aug_method='rotate', pca_mg=pca_mg, pca_cnn=pca_cnn)"
   ]
  },
  {
   "cell_type": "code",
   "execution_count": 35,
   "id": "2cc03f1d",
   "metadata": {},
   "outputs": [
    {
     "name": "stdout",
     "output_type": "stream",
     "text": [
      "Accuracy: 96.0 %\n"
     ]
    }
   ],
   "source": [
    "acc = calc_acc(labels_alm_bench, predicted)\n",
    "print(f'Accuracy: {acc} %')"
   ]
  },
  {
   "cell_type": "code",
   "execution_count": 36,
   "id": "c9118033",
   "metadata": {},
   "outputs": [
    {
     "name": "stdout",
     "output_type": "stream",
     "text": [
      "Precision: 95.1 %\n",
      "Recall: 97.0 %\n"
     ]
    }
   ],
   "source": [
    "#Precision and Recall\n",
    "pred = np.argmax(predicted, axis=1)\n",
    "calc_metrics(labels_alm_bench, pred)"
   ]
  },
  {
   "attachments": {},
   "cell_type": "markdown",
   "id": "f6fafc0c",
   "metadata": {},
   "source": [
    "### Crop"
   ]
  },
  {
   "cell_type": "code",
   "execution_count": 37,
   "id": "f5c84944",
   "metadata": {},
   "outputs": [],
   "source": [
    "predicted = predict_from_path(model_gap, model, paths_alm_bench, resize_func=resize_max, \n",
    "                              size=(996, 996), model_CNN=model_CNN, aug_method='crop', pca_mg=pca_mg, pca_cnn=pca_cnn)"
   ]
  },
  {
   "cell_type": "code",
   "execution_count": 38,
   "id": "9192614e",
   "metadata": {},
   "outputs": [
    {
     "name": "stdout",
     "output_type": "stream",
     "text": [
      "Accuracy: 94.0 %\n"
     ]
    }
   ],
   "source": [
    "acc = calc_acc(labels_alm_bench, predicted)\n",
    "print(f'Accuracy: {acc} %')"
   ]
  },
  {
   "cell_type": "code",
   "execution_count": 39,
   "id": "5bcb47dd",
   "metadata": {},
   "outputs": [
    {
     "name": "stdout",
     "output_type": "stream",
     "text": [
      "Precision: 92.31 %\n",
      "Recall: 96.0 %\n"
     ]
    }
   ],
   "source": [
    "#Precision and Recall\n",
    "pred = np.argmax(predicted, axis=1)\n",
    "calc_metrics(labels_alm_bench, pred)"
   ]
  },
  {
   "attachments": {},
   "cell_type": "markdown",
   "id": "5eddb414",
   "metadata": {},
   "source": [
    "### Denoise"
   ]
  },
  {
   "cell_type": "code",
   "execution_count": 40,
   "id": "259ae95c",
   "metadata": {},
   "outputs": [],
   "source": [
    "predicted = predict_from_path(model_gap, model, paths_alm_bench, resize_func=resize_max, \n",
    "                              size=(996, 996), model_CNN=model_CNN, aug_method='denoise', pca_mg=pca_mg, pca_cnn=pca_cnn)"
   ]
  },
  {
   "cell_type": "code",
   "execution_count": 41,
   "id": "da73bf15",
   "metadata": {},
   "outputs": [
    {
     "name": "stdout",
     "output_type": "stream",
     "text": [
      "Accuracy: 87.0 %\n"
     ]
    }
   ],
   "source": [
    "acc = calc_acc(labels_alm_bench, predicted)\n",
    "print(f'Accuracy: {acc} %')"
   ]
  },
  {
   "cell_type": "code",
   "execution_count": 42,
   "id": "88101404",
   "metadata": {},
   "outputs": [
    {
     "name": "stdout",
     "output_type": "stream",
     "text": [
      "Precision: 81.36 %\n",
      "Recall: 96.0 %\n"
     ]
    }
   ],
   "source": [
    "#Precision and Recall\n",
    "pred = np.argmax(predicted, axis=1)\n",
    "calc_metrics(labels_alm_bench, pred)"
   ]
  },
  {
   "attachments": {},
   "cell_type": "markdown",
   "id": "5e2bbea8",
   "metadata": {},
   "source": [
    "### Blur"
   ]
  },
  {
   "cell_type": "code",
   "execution_count": 43,
   "id": "8b088c70",
   "metadata": {},
   "outputs": [],
   "source": [
    "predicted = predict_from_path(model_gap, model, paths_alm_bench, resize_func=resize_max, \n",
    "                              size=(996, 996), model_CNN=model_CNN, aug_method='blur', pca_mg=pca_mg, pca_cnn=pca_cnn)"
   ]
  },
  {
   "cell_type": "code",
   "execution_count": 44,
   "id": "505ae6f7",
   "metadata": {},
   "outputs": [
    {
     "name": "stdout",
     "output_type": "stream",
     "text": [
      "Accuracy: 51.0 %\n"
     ]
    }
   ],
   "source": [
    "acc = calc_acc(labels_alm_bench, predicted)\n",
    "print(f'Accuracy: {acc} %')"
   ]
  },
  {
   "cell_type": "code",
   "execution_count": 45,
   "id": "e174a85e",
   "metadata": {},
   "outputs": [
    {
     "name": "stdout",
     "output_type": "stream",
     "text": [
      "Precision: 100.0 %\n",
      "Recall: 2.0 %\n"
     ]
    }
   ],
   "source": [
    "#Precision and Recall\n",
    "pred = np.argmax(predicted, axis=1)\n",
    "calc_metrics(labels_alm_bench, pred)"
   ]
  },
  {
   "attachments": {},
   "cell_type": "markdown",
   "id": "a1cf3186",
   "metadata": {},
   "source": [
    "### Noise"
   ]
  },
  {
   "cell_type": "code",
   "execution_count": 46,
   "id": "4c10ccae",
   "metadata": {},
   "outputs": [],
   "source": [
    "predicted = predict_from_path(model_gap, model, paths_alm_bench, resize_func=resize_max, \n",
    "                              size=(996, 996), model_CNN=model_CNN, aug_method='noise', pca_mg=pca_mg, pca_cnn=pca_cnn)"
   ]
  },
  {
   "cell_type": "code",
   "execution_count": 47,
   "id": "22b9a95c",
   "metadata": {},
   "outputs": [
    {
     "name": "stdout",
     "output_type": "stream",
     "text": [
      "Accuracy: 70.0 %\n"
     ]
    }
   ],
   "source": [
    "acc = calc_acc(labels_alm_bench, predicted)\n",
    "print(f'Accuracy: {acc} %')"
   ]
  },
  {
   "cell_type": "code",
   "execution_count": 48,
   "id": "87bd17ed",
   "metadata": {},
   "outputs": [
    {
     "name": "stdout",
     "output_type": "stream",
     "text": [
      "Precision: 97.62 %\n",
      "Recall: 41.0 %\n"
     ]
    }
   ],
   "source": [
    "#Precision and Recall\n",
    "pred = np.argmax(predicted, axis=1)\n",
    "calc_metrics(labels_alm_bench, pred)"
   ]
  },
  {
   "attachments": {},
   "cell_type": "markdown",
   "id": "a872fe43",
   "metadata": {},
   "source": [
    "### Sharpness"
   ]
  },
  {
   "cell_type": "code",
   "execution_count": 49,
   "id": "6c78f66d",
   "metadata": {},
   "outputs": [],
   "source": [
    "predicted = predict_from_path(model_gap, model, paths_alm_bench, resize_func=resize_max, \n",
    "                              size=(996, 996), model_CNN=model_CNN, aug_method='sharpness', pca_mg=pca_mg, pca_cnn=pca_cnn)"
   ]
  },
  {
   "cell_type": "code",
   "execution_count": 50,
   "id": "aeaafed0",
   "metadata": {},
   "outputs": [
    {
     "name": "stdout",
     "output_type": "stream",
     "text": [
      "Accuracy: 60.0 %\n"
     ]
    }
   ],
   "source": [
    "acc = calc_acc(labels_alm_bench, predicted)\n",
    "print(f'Accuracy: {acc} %')"
   ]
  },
  {
   "cell_type": "code",
   "execution_count": 51,
   "id": "4892d9e1",
   "metadata": {},
   "outputs": [
    {
     "name": "stdout",
     "output_type": "stream",
     "text": [
      "Precision: 85.71 %\n",
      "Recall: 24.0 %\n"
     ]
    }
   ],
   "source": [
    "#Precision and Recall\n",
    "pred = np.argmax(predicted, axis=1)\n",
    "calc_metrics(labels_alm_bench, pred)"
   ]
  },
  {
   "attachments": {},
   "cell_type": "markdown",
   "id": "dc9f42fe",
   "metadata": {},
   "source": [
    "## Custom data predictions"
   ]
  },
  {
   "attachments": {},
   "cell_type": "markdown",
   "id": "78d8f2e6",
   "metadata": {},
   "source": [
    "### Joint"
   ]
  },
  {
   "cell_type": "code",
   "execution_count": 9,
   "id": "789d52d6",
   "metadata": {
    "scrolled": true
   },
   "outputs": [
    {
     "name": "stdout",
     "output_type": "stream",
     "text": [
      "WARNING:tensorflow:5 out of the last 5 calls to <function Model.make_predict_function.<locals>.predict_function at 0x0000027D4A24EE50> triggered tf.function retracing. Tracing is expensive and the excessive number of tracings could be due to (1) creating @tf.function repeatedly in a loop, (2) passing tensors with different shapes, (3) passing Python objects instead of tensors. For (1), please define your @tf.function outside of the loop. For (2), @tf.function has reduce_retracing=True option that can avoid unnecessary retracing. For (3), please refer to https://www.tensorflow.org/guide/function#controlling_retracing and https://www.tensorflow.org/api_docs/python/tf/function for  more details.\n"
     ]
    },
    {
     "name": "stderr",
     "output_type": "stream",
     "text": [
      "WARNING:tensorflow:5 out of the last 5 calls to <function Model.make_predict_function.<locals>.predict_function at 0x0000027D4A24EE50> triggered tf.function retracing. Tracing is expensive and the excessive number of tracings could be due to (1) creating @tf.function repeatedly in a loop, (2) passing tensors with different shapes, (3) passing Python objects instead of tensors. For (1), please define your @tf.function outside of the loop. For (2), @tf.function has reduce_retracing=True option that can avoid unnecessary retracing. For (3), please refer to https://www.tensorflow.org/guide/function#controlling_retracing and https://www.tensorflow.org/api_docs/python/tf/function for  more details.\n"
     ]
    },
    {
     "name": "stdout",
     "output_type": "stream",
     "text": [
      "WARNING:tensorflow:6 out of the last 6 calls to <function Model.make_predict_function.<locals>.predict_function at 0x0000027D4A08BEE0> triggered tf.function retracing. Tracing is expensive and the excessive number of tracings could be due to (1) creating @tf.function repeatedly in a loop, (2) passing tensors with different shapes, (3) passing Python objects instead of tensors. For (1), please define your @tf.function outside of the loop. For (2), @tf.function has reduce_retracing=True option that can avoid unnecessary retracing. For (3), please refer to https://www.tensorflow.org/guide/function#controlling_retracing and https://www.tensorflow.org/api_docs/python/tf/function for  more details.\n"
     ]
    },
    {
     "name": "stderr",
     "output_type": "stream",
     "text": [
      "WARNING:tensorflow:6 out of the last 6 calls to <function Model.make_predict_function.<locals>.predict_function at 0x0000027D4A08BEE0> triggered tf.function retracing. Tracing is expensive and the excessive number of tracings could be due to (1) creating @tf.function repeatedly in a loop, (2) passing tensors with different shapes, (3) passing Python objects instead of tensors. For (1), please define your @tf.function outside of the loop. For (2), @tf.function has reduce_retracing=True option that can avoid unnecessary retracing. For (3), please refer to https://www.tensorflow.org/guide/function#controlling_retracing and https://www.tensorflow.org/api_docs/python/tf/function for  more details.\n"
     ]
    }
   ],
   "source": [
    "predicted = predict_from_path(model_gap, model, paths_rand_bench, resize_func=resize_max, \n",
    "                              size=(996, 996), model_CNN=model_CNN, aug_method='joint', pca_mg=pca_mg, pca_cnn=pca_cnn)"
   ]
  },
  {
   "cell_type": "code",
   "execution_count": 10,
   "id": "59680d0b",
   "metadata": {},
   "outputs": [
    {
     "name": "stdout",
     "output_type": "stream",
     "text": [
      "Accuracy: 75.42 %\n"
     ]
    }
   ],
   "source": [
    "acc = calc_acc(labels_rand_bench_joint, predicted)\n",
    "print(f'Accuracy: {acc} %')"
   ]
  },
  {
   "cell_type": "code",
   "execution_count": 11,
   "id": "5d3e7fa3",
   "metadata": {},
   "outputs": [
    {
     "name": "stdout",
     "output_type": "stream",
     "text": [
      "Precision: 87.84 %\n",
      "Recall: 59.0 %\n"
     ]
    }
   ],
   "source": [
    "#Precision and Recall\n",
    "pred = np.argmax(predicted, axis=1)\n",
    "calc_metrics(labels_rand_bench_joint, pred)"
   ]
  },
  {
   "attachments": {},
   "cell_type": "markdown",
   "id": "4810c9b3",
   "metadata": {},
   "source": [
    "### Rotate"
   ]
  },
  {
   "cell_type": "code",
   "execution_count": 13,
   "id": "35622efd",
   "metadata": {},
   "outputs": [],
   "source": [
    "predicted = predict_from_path(model_gap, model, paths_rand_bench, resize_func=resize_max, \n",
    "                              size=(996, 996), model_CNN=model_CNN, aug_method='rotate', pca_mg=pca_mg, pca_cnn=pca_cnn)"
   ]
  },
  {
   "cell_type": "code",
   "execution_count": 14,
   "id": "35624d78",
   "metadata": {},
   "outputs": [
    {
     "name": "stdout",
     "output_type": "stream",
     "text": [
      "Accuracy: 93.5 %\n"
     ]
    }
   ],
   "source": [
    "acc = calc_acc(labels_rand_bench, predicted)\n",
    "print(f'Accuracy: {acc} %')"
   ]
  },
  {
   "cell_type": "code",
   "execution_count": 15,
   "id": "9c6ac994",
   "metadata": {},
   "outputs": [
    {
     "name": "stdout",
     "output_type": "stream",
     "text": [
      "Precision: 95.79 %\n",
      "Recall: 91.0 %\n"
     ]
    }
   ],
   "source": [
    "#Precision and Recall\n",
    "pred = np.argmax(predicted, axis=1)\n",
    "calc_metrics(labels_rand_bench, pred)"
   ]
  },
  {
   "attachments": {},
   "cell_type": "markdown",
   "id": "4acd329c",
   "metadata": {},
   "source": [
    "### Crop"
   ]
  },
  {
   "cell_type": "code",
   "execution_count": 16,
   "id": "7bc5639f",
   "metadata": {},
   "outputs": [],
   "source": [
    "predicted = predict_from_path(model_gap, model, paths_rand_bench, resize_func=resize_max, \n",
    "                              size=(996, 996), model_CNN=model_CNN, aug_method='crop', pca_mg=pca_mg, pca_cnn=pca_cnn)"
   ]
  },
  {
   "cell_type": "code",
   "execution_count": 17,
   "id": "c36d34d6",
   "metadata": {},
   "outputs": [
    {
     "name": "stdout",
     "output_type": "stream",
     "text": [
      "Accuracy: 93.5 %\n"
     ]
    }
   ],
   "source": [
    "acc = calc_acc(labels_rand_bench, predicted)\n",
    "print(f'Accuracy: {acc} %')"
   ]
  },
  {
   "cell_type": "code",
   "execution_count": 18,
   "id": "13e29ad9",
   "metadata": {},
   "outputs": [
    {
     "name": "stdout",
     "output_type": "stream",
     "text": [
      "Precision: 93.07 %\n",
      "Recall: 94.0 %\n"
     ]
    }
   ],
   "source": [
    "#Precision and Recall\n",
    "pred = np.argmax(predicted, axis=1)\n",
    "calc_metrics(labels_rand_bench, pred)"
   ]
  },
  {
   "attachments": {},
   "cell_type": "markdown",
   "id": "4dbb5e22",
   "metadata": {},
   "source": [
    "### Denoise"
   ]
  },
  {
   "cell_type": "code",
   "execution_count": 19,
   "id": "80d0b2ec",
   "metadata": {},
   "outputs": [],
   "source": [
    "predicted = predict_from_path(model_gap, model, paths_rand_bench, resize_func=resize_max, \n",
    "                              size=(996, 996), model_CNN=model_CNN, aug_method='denoise', pca_mg=pca_mg, pca_cnn=pca_cnn)"
   ]
  },
  {
   "cell_type": "code",
   "execution_count": 20,
   "id": "4fbbd20b",
   "metadata": {},
   "outputs": [
    {
     "name": "stdout",
     "output_type": "stream",
     "text": [
      "Accuracy: 80.5 %\n"
     ]
    }
   ],
   "source": [
    "acc = calc_acc(labels_rand_bench, predicted)\n",
    "print(f'Accuracy: {acc} %')"
   ]
  },
  {
   "cell_type": "code",
   "execution_count": 21,
   "id": "ad4cd0b2",
   "metadata": {},
   "outputs": [
    {
     "name": "stdout",
     "output_type": "stream",
     "text": [
      "Precision: 75.63 %\n",
      "Recall: 90.0 %\n"
     ]
    }
   ],
   "source": [
    "#Precision and Recall\n",
    "pred = np.argmax(predicted, axis=1)\n",
    "calc_metrics(labels_rand_bench, pred)"
   ]
  },
  {
   "attachments": {},
   "cell_type": "markdown",
   "id": "469254f9",
   "metadata": {},
   "source": [
    "### Blur"
   ]
  },
  {
   "cell_type": "code",
   "execution_count": 9,
   "id": "91fa6258",
   "metadata": {},
   "outputs": [],
   "source": [
    "predicted = predict_from_path(model_gap, model, paths_rand_bench, resize_func=resize_max, \n",
    "                              size=(996, 996), model_CNN=model_CNN, aug_method='blur', pca_mg=pca_mg, pca_cnn=pca_cnn)"
   ]
  },
  {
   "cell_type": "code",
   "execution_count": 10,
   "id": "975a7286",
   "metadata": {},
   "outputs": [
    {
     "name": "stdout",
     "output_type": "stream",
     "text": [
      "Accuracy: 49.0 %\n"
     ]
    }
   ],
   "source": [
    "acc = calc_acc(labels_rand_bench, predicted)\n",
    "print(f'Accuracy: {acc} %')"
   ]
  },
  {
   "cell_type": "code",
   "execution_count": 11,
   "id": "986e33f6",
   "metadata": {},
   "outputs": [
    {
     "name": "stdout",
     "output_type": "stream",
     "text": [
      "Precision: 0.0 %\n",
      "Recall: 0.0 %\n"
     ]
    }
   ],
   "source": [
    "#Precision and Recall\n",
    "pred = np.argmax(predicted, axis=1)\n",
    "calc_metrics(labels_rand_bench, pred)"
   ]
  },
  {
   "attachments": {},
   "cell_type": "markdown",
   "id": "bdd23f22",
   "metadata": {},
   "source": [
    "### Noise"
   ]
  },
  {
   "cell_type": "code",
   "execution_count": 11,
   "id": "eb97bd7a",
   "metadata": {
    "collapsed": true
   },
   "outputs": [
    {
     "name": "stdout",
     "output_type": "stream",
     "text": [
      "WARNING:tensorflow:5 out of the last 7 calls to <function Model.make_predict_function.<locals>.predict_function at 0x0000029508711820> triggered tf.function retracing. Tracing is expensive and the excessive number of tracings could be due to (1) creating @tf.function repeatedly in a loop, (2) passing tensors with different shapes, (3) passing Python objects instead of tensors. For (1), please define your @tf.function outside of the loop. For (2), @tf.function has reduce_retracing=True option that can avoid unnecessary retracing. For (3), please refer to https://www.tensorflow.org/guide/function#controlling_retracing and https://www.tensorflow.org/api_docs/python/tf/function for  more details.\n"
     ]
    },
    {
     "name": "stderr",
     "output_type": "stream",
     "text": [
      "WARNING:tensorflow:5 out of the last 7 calls to <function Model.make_predict_function.<locals>.predict_function at 0x0000029508711820> triggered tf.function retracing. Tracing is expensive and the excessive number of tracings could be due to (1) creating @tf.function repeatedly in a loop, (2) passing tensors with different shapes, (3) passing Python objects instead of tensors. For (1), please define your @tf.function outside of the loop. For (2), @tf.function has reduce_retracing=True option that can avoid unnecessary retracing. For (3), please refer to https://www.tensorflow.org/guide/function#controlling_retracing and https://www.tensorflow.org/api_docs/python/tf/function for  more details.\n"
     ]
    },
    {
     "name": "stdout",
     "output_type": "stream",
     "text": [
      "WARNING:tensorflow:6 out of the last 8 calls to <function Model.make_predict_function.<locals>.predict_function at 0x000002950823A5E0> triggered tf.function retracing. Tracing is expensive and the excessive number of tracings could be due to (1) creating @tf.function repeatedly in a loop, (2) passing tensors with different shapes, (3) passing Python objects instead of tensors. For (1), please define your @tf.function outside of the loop. For (2), @tf.function has reduce_retracing=True option that can avoid unnecessary retracing. For (3), please refer to https://www.tensorflow.org/guide/function#controlling_retracing and https://www.tensorflow.org/api_docs/python/tf/function for  more details.\n"
     ]
    },
    {
     "name": "stderr",
     "output_type": "stream",
     "text": [
      "WARNING:tensorflow:6 out of the last 8 calls to <function Model.make_predict_function.<locals>.predict_function at 0x000002950823A5E0> triggered tf.function retracing. Tracing is expensive and the excessive number of tracings could be due to (1) creating @tf.function repeatedly in a loop, (2) passing tensors with different shapes, (3) passing Python objects instead of tensors. For (1), please define your @tf.function outside of the loop. For (2), @tf.function has reduce_retracing=True option that can avoid unnecessary retracing. For (3), please refer to https://www.tensorflow.org/guide/function#controlling_retracing and https://www.tensorflow.org/api_docs/python/tf/function for  more details.\n"
     ]
    }
   ],
   "source": [
    "predicted = predict_from_path(model_gap, model, paths_rand_bench, resize_func=resize_max, \n",
    "                              size=(996, 996), model_CNN=model_CNN, aug_method='noise', pca_mg=pca_mg, pca_cnn=pca_cnn)"
   ]
  },
  {
   "cell_type": "code",
   "execution_count": 12,
   "id": "dd0ded0e",
   "metadata": {},
   "outputs": [
    {
     "name": "stdout",
     "output_type": "stream",
     "text": [
      "Accuracy: 69.0 %\n"
     ]
    }
   ],
   "source": [
    "acc = calc_acc(labels_rand_bench, predicted)\n",
    "print(f'Accuracy: {acc} %')"
   ]
  },
  {
   "cell_type": "code",
   "execution_count": 13,
   "id": "01190228",
   "metadata": {},
   "outputs": [
    {
     "name": "stdout",
     "output_type": "stream",
     "text": [
      "Precision: 95.24 %\n",
      "Recall: 40.0 %\n"
     ]
    }
   ],
   "source": [
    "#Precision and Recall\n",
    "pred = np.argmax(predicted, axis=1)\n",
    "calc_metrics(labels_rand_bench, pred)"
   ]
  },
  {
   "attachments": {},
   "cell_type": "markdown",
   "id": "a5ede63d",
   "metadata": {},
   "source": [
    "### Sharpness"
   ]
  },
  {
   "cell_type": "code",
   "execution_count": 14,
   "id": "99e9293f",
   "metadata": {},
   "outputs": [],
   "source": [
    "predicted = predict_from_path(model_gap, model, paths_rand_bench, resize_func=resize_max, \n",
    "                              size=(996, 996), model_CNN=model_CNN, aug_method='sharpness', pca_mg=pca_mg, pca_cnn=pca_cnn)"
   ]
  },
  {
   "cell_type": "code",
   "execution_count": 15,
   "id": "c92db77b",
   "metadata": {},
   "outputs": [
    {
     "name": "stdout",
     "output_type": "stream",
     "text": [
      "Accuracy: 67.0 %\n"
     ]
    }
   ],
   "source": [
    "acc = calc_acc(labels_rand_bench, predicted)\n",
    "print(f'Accuracy: {acc} %')"
   ]
  },
  {
   "cell_type": "code",
   "execution_count": 16,
   "id": "b38687f6",
   "metadata": {},
   "outputs": [
    {
     "name": "stdout",
     "output_type": "stream",
     "text": [
      "Precision: 86.96 %\n",
      "Recall: 40.0 %\n"
     ]
    }
   ],
   "source": [
    "#Precision and Recall\n",
    "pred = np.argmax(predicted, axis=1)\n",
    "calc_metrics(labels_rand_bench, pred)"
   ]
  },
  {
   "cell_type": "code",
   "execution_count": null,
   "id": "c5de4c28",
   "metadata": {},
   "outputs": [],
   "source": []
  }
 ],
 "metadata": {
  "kernelspec": {
   "display_name": "Python 3 (ipykernel)",
   "language": "python",
   "name": "python3"
  },
  "language_info": {
   "codemirror_mode": {
    "name": "ipython",
    "version": 3
   },
   "file_extension": ".py",
   "mimetype": "text/x-python",
   "name": "python",
   "nbconvert_exporter": "python",
   "pygments_lexer": "ipython3",
   "version": "3.9.12"
  }
 },
 "nbformat": 4,
 "nbformat_minor": 5
}
