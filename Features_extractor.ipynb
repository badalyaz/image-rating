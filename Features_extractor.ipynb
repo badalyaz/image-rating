{
 "cells": [
  {
   "cell_type": "code",
   "execution_count": 4,
   "id": "a632935e",
   "metadata": {},
   "outputs": [],
   "source": [
    "from final_utils import *"
   ]
  },
  {
   "attachments": {},
   "cell_type": "markdown",
   "id": "ebdb55a2",
   "metadata": {},
   "source": [
    "### Creating model and generating root path"
   ]
  },
  {
   "cell_type": "code",
   "execution_count": 5,
   "id": "b74d4328",
   "metadata": {},
   "outputs": [],
   "source": [
    "root_path = generate_root_path() \n",
    "\n",
    "model = model_inceptionresnet_multigap()"
   ]
  },
  {
   "attachments": {},
   "cell_type": "markdown",
   "id": "ffe6d2c5",
   "metadata": {},
   "source": [
    "### Feature extracting from path"
   ]
  },
  {
   "cell_type": "code",
   "execution_count": 10,
   "id": "9dc25783",
   "metadata": {
    "scrolled": true
   },
   "outputs": [
    {
     "name": "stdout",
     "output_type": "stream",
     "text": [
      "Source =  D:Data/AesthAI/alm/splitted/alm_train/images/good/good1\n",
      "Target =  D:Data/AesthAI/alm/splitted/alm_train/features/train_feats_original_images/new/\n",
      "100 images\n",
      "200 images\n",
      "300 images\n",
      "400 images\n",
      "500 images\n",
      "600 images\n",
      "700 images\n",
      "800 images\n",
      "900 images\n",
      "1000 images\n",
      "1100 images\n",
      "1200 images\n",
      "1300 images\n",
      "1400 images\n",
      "1500 images\n",
      "1600 images\n",
      "1700 images\n",
      "1800 images\n",
      "1900 images\n",
      "2000 images\n",
      "2100 images\n",
      "2200 images\n",
      "2300 images\n",
      "2400 images\n",
      "2500 images\n",
      "2600 images\n",
      "2700 images\n",
      "2800 images\n",
      "2900 images\n",
      "3000 images\n",
      "3100 images\n",
      "3200 images\n",
      "3300 images\n",
      "3400 images\n",
      "3500 images\n",
      "3600 images\n",
      "3700 images\n",
      "3800 images\n",
      "3900 images\n",
      "4000 images\n",
      "4100 images\n",
      "4200 images\n",
      "4300 images\n",
      "4400 images\n",
      "4500 images\n",
      "4600 images\n",
      "4700 images\n",
      "4800 images\n",
      "4900 images\n",
      "5000 images\n",
      "5100 images\n",
      "5200 images\n",
      "5300 images\n",
      "5400 images\n",
      "5500 images\n",
      "5600 images\n",
      "5700 images\n",
      "5800 images\n",
      "5900 images\n",
      "6000 images\n",
      "6100 images\n",
      "6200 images\n",
      "6300 images\n",
      "6400 images\n",
      "6500 images\n",
      "6600 images\n",
      "6700 images\n",
      "6800 images\n",
      "6900 images\n",
      "7000 images\n",
      "7100 images\n",
      "7200 images\n",
      "7300 images\n",
      "7400 images\n",
      "7500 images\n",
      "7600 images\n",
      "7700 images\n",
      "7800 images\n",
      "7900 images\n",
      "8000 images\n",
      "8100 images\n",
      "8200 images\n",
      "8300 images\n",
      "8400 images\n",
      "8500 images\n",
      "8600 images\n",
      "8700 images\n",
      "8800 images\n",
      "8900 images\n",
      "9000 images\n",
      "9100 images\n",
      "9200 images\n",
      "9300 images\n",
      "9400 images\n",
      "9500 images\n",
      "9600 images\n",
      "9700 images\n",
      "9800 images\n",
      "9900 images\n",
      "10000 images\n",
      "10100 images\n",
      "10200 images\n",
      "10300 images\n",
      "10400 images\n",
      "10500 images\n",
      "10600 images\n",
      "10700 images\n",
      "10800 images\n",
      "10900 images\n",
      "11000 images\n",
      "11100 images\n",
      "11200 images\n",
      "11300 images\n",
      "11400 images\n",
      "11500 images\n",
      "11600 images\n",
      "11700 images\n",
      "Done...\n"
     ]
    },
    {
     "data": {
      "text/plain": [
       "{}"
      ]
     },
     "execution_count": 10,
     "metadata": {},
     "output_type": "execute_result"
    }
   ],
   "source": [
    "source_file = root_path + 'Data/train/images/good/good1'\n",
    "target_file = root_path + 'Data/train/features/train_feats_original_images/new/'\n",
    "\n",
    "extract_features_from_path_automated(source_file=source_file, \n",
    "                                     target_file=target_file, \n",
    "                                     model=model, batch_size=1, \n",
    "                                     crop_func=None, resize_func=False, \n",
    "                                     size=(None,None))"
   ]
  },
  {
   "attachments": {},
   "cell_type": "markdown",
   "id": "130549a8",
   "metadata": {},
   "source": [
    "### Feature extracting from path and saving to json"
   ]
  },
  {
   "cell_type": "code",
   "execution_count": null,
   "id": "fcd6a1d6",
   "metadata": {},
   "outputs": [],
   "source": [
    "source_file = root_path + 'Data/augmentation/Good_cropping_area_to_bad/images/bad'\n",
    "target_file = root_path + 'Data/augmentation/Good_cropping_area_to_bad/features/mg/original/'\n",
    "\n",
    "extract_features_from_path_automated_json(source_file=source_file,\n",
    "                                     target_file=target_file,\n",
    "                                     label='bad', splitted = '',\n",
    "                                     model=model,\n",
    "                                     crop_func=None, resize_func=False,\n",
    "                                     save_json=True)"
   ]
  },
  {
   "cell_type": "code",
   "execution_count": 6,
   "id": "5de89c8f",
   "metadata": {},
   "outputs": [],
   "source": []
  }
 ],
 "metadata": {
  "kernelspec": {
   "display_name": "Python 3 (ipykernel)",
   "language": "python",
   "name": "python3"
  },
  "language_info": {
   "codemirror_mode": {
    "name": "ipython",
    "version": 3
   },
   "file_extension": ".py",
   "mimetype": "text/x-python",
   "name": "python",
   "nbconvert_exporter": "python",
   "pygments_lexer": "ipython3",
   "version": "3.9.12"
  }
 },
 "nbformat": 4,
 "nbformat_minor": 5
}
