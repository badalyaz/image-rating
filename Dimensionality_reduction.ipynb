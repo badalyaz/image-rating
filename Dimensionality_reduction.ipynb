{
 "cells": [
  {
   "cell_type": "code",
   "execution_count": 1,
   "id": "0b8cfe13",
   "metadata": {},
   "outputs": [],
   "source": [
    "from final_utils import *\n",
    "from sklearn.decomposition import PCA,KernelPCA,FastICA"
   ]
  },
  {
   "attachments": {},
   "cell_type": "markdown",
   "id": "8935266a",
   "metadata": {},
   "source": [
    "## PCA for MultiGap "
   ]
  },
  {
   "cell_type": "code",
   "execution_count": null,
   "id": "c5028094",
   "metadata": {},
   "outputs": [],
   "source": [
    "#loading feature vectors from paths\n",
    "root_path = generate_root_path()\n",
    "paths = glob(f'{root_path}Data/*')\n",
    "feator_vectors = []\n",
    "for path in paths:\n",
    "    feator_vectors.append(np.load(path))\n",
    "print(len(feator_vectors))\n",
    "feator_vectors = np.asarray(feator_vectors)\n",
    "feator_vectors = np.squeeze(feator_vectors,axis = 1)\n",
    "print(feator_vectors.shape)    "
   ]
  },
  {
   "cell_type": "code",
   "execution_count": null,
   "id": "40b8e2d0",
   "metadata": {},
   "outputs": [],
   "source": [
    "#creating model PCA and training\n",
    "pca = PCA(n_components = 8464, kernel = 'rbf' ,eigen_solver = \"auto\")\n",
    "pca.fit(feator_vectors)"
   ]
  },
  {
   "attachments": {},
   "cell_type": "markdown",
   "id": "61ca160c",
   "metadata": {},
   "source": [
    "### Make folders\n"
   ]
  },
  {
   "cell_type": "code",
   "execution_count": null,
   "id": "c26a3aae",
   "metadata": {},
   "outputs": [],
   "source": [
    "if not os.path.exists(f'{root_path}Data/mg/original_PCA_8464_auto'):\n",
    "    os.mkdir(f'{root_path}Data/mg/original_PCA_8464_auto')"
   ]
  },
  {
   "attachments": {},
   "cell_type": "markdown",
   "id": "4ec44684",
   "metadata": {},
   "source": [
    "### Save PCA"
   ]
  },
  {
   "cell_type": "code",
   "execution_count": null,
   "id": "4428f988",
   "metadata": {},
   "outputs": [],
   "source": [
    "pca_path = 'models/PCA/PCA_MG_8464_auto.pkl'\n",
    "\n",
    "pk.dump(pca, open( pca_path,\"wb\"))"
   ]
  },
  {
   "attachments": {},
   "cell_type": "markdown",
   "id": "2413151e",
   "metadata": {},
   "source": [
    "### Save transformed feature vectors"
   ]
  },
  {
   "cell_type": "code",
   "execution_count": null,
   "id": "15dc6e23",
   "metadata": {},
   "outputs": [],
   "source": [
    "pca_reload = pk.load(open(pca_path,'rb'))\n",
    "target = f'{root_path}Data/MG/original_PCA_8464_auto'\n",
    "\n",
    "for path in paths:\n",
    "    basename = (os.path.basename(path).split('.'))[0] \n",
    "    feat = np.load(path)\n",
    "    feat = pca_reload.transform(feat)\n",
    "    np.save(os.path.join(target,basename),feat)"
   ]
  },
  {
   "attachments": {},
   "cell_type": "markdown",
   "id": "d49194e9",
   "metadata": {},
   "source": [
    "## PCA for CNN"
   ]
  },
  {
   "cell_type": "code",
   "execution_count": null,
   "id": "977dab0d",
   "metadata": {},
   "outputs": [],
   "source": [
    "root_path = generate_root_path()\n",
    "paths = glob(f'{root_path}Data/cnn_efficientnet_b7/border_600x600/*')\n",
    "feator_vectors = []\n",
    "for path in paths:\n",
    "    feator_vectors.append(np.load(path))\n",
    "print(len(feator_vectors))\n",
    "feator_vectors = np.asarray(feator_vectors)\n",
    "feator_vectors = np.squeeze(feator_vectors,axis = 1)\n",
    "print(feator_vectors.shape)    "
   ]
  },
  {
   "cell_type": "code",
   "execution_count": null,
   "id": "0eb4180b",
   "metadata": {},
   "outputs": [],
   "source": [
    "#creating model PCA and training\n",
    "pca_cnn = PCA(n_components = 1280 , svd_solver = \"auto\")\n",
    "pca_cnn.fit(feator_vectors)"
   ]
  },
  {
   "attachments": {},
   "cell_type": "markdown",
   "id": "80910f1b",
   "metadata": {},
   "source": [
    "### Make folders "
   ]
  },
  {
   "cell_type": "code",
   "execution_count": null,
   "id": "35222a2a",
   "metadata": {},
   "outputs": [],
   "source": [
    "if not os.path.exists(f'{root_path}Data/cnn_efficientnet_b7/border_600x600_PCA_1280_auto'):\n",
    "    os.mkdir(f'{root_path}Data/cnn_efficientnet_b7/border_600x600_PCA_1280_auto')\n",
    "   "
   ]
  },
  {
   "attachments": {},
   "cell_type": "markdown",
   "id": "13d0a2c7",
   "metadata": {},
   "source": [
    "### Save PCA  "
   ]
  },
  {
   "cell_type": "code",
   "execution_count": null,
   "id": "28026850",
   "metadata": {},
   "outputs": [],
   "source": [
    "pca_path = 'models/PCA/PCA_CNN_1280_auto.pkl'\n",
    "pk.dump(pca_cnn, open( pca_path,\"wb\"))"
   ]
  },
  {
   "attachments": {},
   "cell_type": "markdown",
   "id": "b13c0eed",
   "metadata": {},
   "source": [
    "### Save transformed feature vectors"
   ]
  },
  {
   "cell_type": "code",
   "execution_count": null,
   "id": "d6b2ff1a",
   "metadata": {},
   "outputs": [],
   "source": [
    "pca_reload = pk.load(open(pca_path,'rb'))\n",
    "target =f'{root_path}Data/cnn_efficientnet_b7/border_600x600_PCA_1280_auto'\n",
    "for path in paths:\n",
    "    basename = (os.path.basename(path).split('.'))[0] \n",
    "    feat = np.load(path)\n",
    "    feat = pca_reload.transform(feat)\n",
    "    np.save(os.path.join(target,basename),feat)"
   ]
  },
  {
   "attachments": {},
   "cell_type": "markdown",
   "id": "c7aa39ac",
   "metadata": {},
   "source": [
    "# PCA for mg + cnn feature vectors"
   ]
  },
  {
   "cell_type": "code",
   "execution_count": 2,
   "id": "421baf57",
   "metadata": {},
   "outputs": [],
   "source": [
    "# feator_vectors = []\n",
    "# for i in range(len(paths_multigap)):\n",
    "#     mg_vector = np.load(paths_multigap[i])\n",
    "#     cnn_vector = np.load(paths_cnn[i])\n",
    "#     feator_vector = np.concatenate((mg_vector,cnn_vector), axis  = 1)\n",
    "#     feator_vectors.append(feator_vector)\n",
    "#     if i == 100:\n",
    "#         break\n",
    "#     if i % 1000 == 0:\n",
    "#         print(i)\n",
    "# print(len(feator_vectors))\n",
    "# feator_vectors = np.asarray(feator_vectors)\n",
    "# feator_vectors = np.squeeze(feator_vectors)\n",
    "# print(feator_vector\n",
    "\n",
    "\n",
    "\n",
    "root_path = generate_root_path()\n",
    "\n",
    "paths_multigap = glob(f'{root_path}Data/MG/original/*')\n",
    "paths_cnn = glob(f'{root_path}Data/cnn_efficientnet_b7/border_600x600/*')\n",
    "\n"
   ]
  },
  {
   "cell_type": "code",
   "execution_count": 3,
   "id": "daee87b9",
   "metadata": {},
   "outputs": [],
   "source": [
    "pca_path = 'models/PCA/mgcnn_pca.pkl'\n",
    "pca_reload = pk.load(open(pca_path,'rb'))\n",
    "target =f'{root_path}Data/cnn_mg_concat/pca_9744_auto'\n",
    "\n",
    "for i in range(len(paths_multigap)):\n",
    "    basename_mg = (os.path.basename(paths_multigap[i]).split('.'))[0] \n",
    "    basename_cnn = (os.path.basename(paths_cnn[i]).split('.'))[0] \n",
    "    if basename_cnn == basename_mg:\n",
    "        feat_mg = np.load(paths_multigap[i])\n",
    "        feat_cnn = np.load(paths_cnn[i])\n",
    "        feat = np.concatenate((feat_mg, feat_cnn), axis  = 1)\n",
    "        feat = pca_reload.transform(feat)\n",
    "        np.save(os.path.join(target, basename_cnn), feat)\n",
    "    else:\n",
    "        print('crush')"
   ]
  },
  {
   "cell_type": "code",
   "execution_count": null,
   "id": "f3daaaea",
   "metadata": {},
   "outputs": [],
   "source": []
  }
 ],
 "metadata": {
  "kernelspec": {
   "display_name": "Python 3 (ipykernel)",
   "language": "python",
   "name": "python3"
  },
  "language_info": {
   "codemirror_mode": {
    "name": "ipython",
    "version": 3
   },
   "file_extension": ".py",
   "mimetype": "text/x-python",
   "name": "python",
   "nbconvert_exporter": "python",
   "pygments_lexer": "ipython3",
   "version": "3.9.12"
  }
 },
 "nbformat": 4,
 "nbformat_minor": 5
}
